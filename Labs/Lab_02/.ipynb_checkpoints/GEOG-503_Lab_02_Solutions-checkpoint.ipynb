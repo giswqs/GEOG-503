{
 "cells": [
  {
   "cell_type": "markdown",
   "metadata": {},
   "source": [
    "# GEOG-503 Lab 2\n",
    "\n",
    "## Due date: \n",
    "Sep 12 (Wednesday) 11:59 pm\n",
    "\n",
    "## What to submit:\n",
    "\n",
    "The Jupyter Notebook that contains solutions to the following questions. File name convention for submission: ** lastname_firstname_lab2.ipynb **\n",
    "\n",
    "It must be submitted to [myCourses](https://mycourses.binghamton.edu/)\n",
    "\n",
    "## Questions\n",
    "\n",
    "Answer the questions or complete the tasks outlined in bold below, use the specific method described if applicable."
   ]
  },
  {
   "cell_type": "markdown",
   "metadata": {},
   "source": [
    "## Q1:\n",
    "\n",
    "Write a program which prompts the user for hours and rate per hour to compute the gross pay. Your program must have error handling capabilites (*try ... except ...*) when a user enters invalid numbers/characters. \n",
    "\n",
    "gross-pay = rate-per-hour * hours"
   ]
  },
  {
   "cell_type": "code",
   "execution_count": null,
   "metadata": {},
   "outputs": [],
   "source": []
  },
  {
   "cell_type": "markdown",
   "metadata": {},
   "source": [
    "## Q2:\n",
    "\n",
    "Write a program which prompts the user for a Fahrenheit temperature, convert the temperature to Celsius, and print out the converted temperature. Your program must have error handling capabilites (*try ... except ...*) when a user enters invalid numbers/characters. "
   ]
  },
  {
   "cell_type": "code",
   "execution_count": null,
   "metadata": {},
   "outputs": [],
   "source": []
  },
  {
   "cell_type": "markdown",
   "metadata": {},
   "source": [
    "## Q3:\n",
    "\n",
    "Write a program that prompts a user for entering a grade (0 -100) and whether he/she has earned the extra credit (‘Yes’ or ‘No’). If ‘Yes’, add 3 extra credits to his/her grade, then print out the letter grade he/she should receive based on the grading scheme below. \n",
    "\n",
    "Letter Grade\t% of Points\n",
    "\n",
    "A\t93.00 – 100%\n",
    "\n",
    "A-\t90.00 – 92.99%\n",
    "\n",
    "B+\t87.00 – 89.99%\n",
    "\n",
    "B\t82.00 – 86.99%\n",
    "\n",
    "B-\t80.00 – 81.99%\n",
    "\n",
    "C+\t77.00 – 79.99%\n",
    "\n",
    "C\t72.00 – 76.99%\n",
    "\n",
    "C- \t70.00 – 71.99%\n",
    "\n",
    "D\t60.00 – 69.99%\n",
    "\n",
    "F\t0.00   – 59.99%\n"
   ]
  },
  {
   "cell_type": "code",
   "execution_count": null,
   "metadata": {
    "collapsed": true
   },
   "outputs": [],
   "source": [
    "# define function\n",
    "def letter_grade(points, has_extra):\n",
    "    \n",
    "    if has_extra:\n",
    "        points = points + 3\n",
    "\n",
    "    if points < 60:\n",
    "        print(\"Letter Grade for {} is: F\".format(str(points)))\n",
    "    elif points < 70:\n",
    "        print(\"Letter Grade for {} is: D\".format(str(points)))\n",
    "    elif points < 72:\n",
    "        print(\"Letter Grade for {} is: C-\".format(str(points)))\n",
    "    elif points < 77:\n",
    "        print(\"Letter Grade for {} is: C\".format(str(points)))\n",
    "    elif points < 80:\n",
    "        print(\"Letter Grade for {} is: C+\".format(str(points)))    \n",
    "    elif points < 82:\n",
    "        print(\"Letter Grade for {} is: B-\".format(str(points)))\n",
    "    elif points < 87:\n",
    "        print(\"Letter Grade for {} is: B\".format(str(points)))\n",
    "    elif points < 90:\n",
    "        print(\"Letter Grade for {} is: B+\".format(str(points)))\n",
    "    elif points < 93:\n",
    "        print(\"Letter Grade for {} is: A-\".format(str(points)))\n",
    "    elif points <= 100:\n",
    "        print(\"Letter Grade for {} is: A\".format(str(points)))     \n",
    "    elif has_extra == True and points <= 103:\n",
    "        print(\"Letter Grade for {} is: A\".format(str(points)))     \n",
    "    else:\n",
    "        print(\"Invalid input!\")\n",
    "        \n",
    "# test the function with user input        \n",
    "try:\n",
    "    while True:    \n",
    "        grade = float(input(\"Enter your grade: \"))\n",
    "        extra = input(\"Have you earned the extra credit? ('Yes' or 'No'): \")\n",
    "        bool_extra = False\n",
    "        if extra.lower() == 'yes' or extra.lower() == 'y':\n",
    "            bool_extra = True\n",
    "        letter_grade(grade,bool_extra) \n",
    "        \n",
    "        in_continue = input(\"Do you want to continue? ('Yes' or 'No'): \")\n",
    "        bool_continue = False\n",
    "        if in_continue.lower() == 'yes' or in_continue.lower() == 'y':\n",
    "            bool_continue = True\n",
    "        \n",
    "        if bool_continue: \n",
    "            continue\n",
    "        else:\n",
    "            break\n",
    "        \n",
    "except:\n",
    "    print(\"Invalid input!\")"
   ]
  },
  {
   "cell_type": "markdown",
   "metadata": {},
   "source": [
    "## Q4:\n",
    "\n",
    "Write a program that repeatedly prompts a user for numbers until the user enters 'done'. Once 'done' is entered, print out the largest, smallest, sum, and average of the numbers. If the user enters anything other than a valid number put out an appropriate message and ignore the number.\n"
   ]
  },
  {
   "cell_type": "code",
   "execution_count": null,
   "metadata": {
    "collapsed": true
   },
   "outputs": [],
   "source": [
    "try:\n",
    "    values_list = []\n",
    "    while True:\n",
    "        in_str = input(\"Enter a number (enter 'done' to quit): \")\n",
    "        if in_str == \"done\" and len(values_list) > 0:\n",
    "            print(\"The largest number is: {}\".format(max(values_list)))\n",
    "            print(\"The smallest number is: {}\".format(min(values_list)))\n",
    "            print(\"The sum is: {}\".format(sum(values_list)))\n",
    "            print(\"The average is: {}\".format(sum(values_list)/len(values_list)))\n",
    "            break   \n",
    "        else: \n",
    "            values_list.append(float(in_str))\n",
    "except:\n",
    "    print(\"Invalid input\")"
   ]
  },
  {
   "cell_type": "markdown",
   "metadata": {},
   "source": [
    "## Q5:\n",
    "\n",
    "Write a program to find out the names listed in **names_1.csv** but not in **names_2.csv**. Save the results as a new csv named **name_not_found.csv**."
   ]
  },
  {
   "cell_type": "code",
   "execution_count": null,
   "metadata": {
    "collapsed": true
   },
   "outputs": [],
   "source": [
    "import csv\n",
    "import os\n",
    "\n",
    "file_1 = os.path.join(os.getcwd(),\"data/names_1.csv\")\n",
    "file_2 = os.path.join(os.getcwd(),\"data/names_2.csv\")\n",
    "\n",
    "ids = set()\n",
    "\n",
    "with open(file_2) as f2:\n",
    "    f2_csv = csv.reader(f2)\n",
    "    for row in f2_csv:\n",
    "        ids.add(row[2])\n",
    "ids.remove(\"ID\")  # remove the first row (header)\n",
    "\n",
    "with open(file_1) as f1:\n",
    "    f1_csv = csv.reader(f1)\n",
    "    for row in f1_csv:\n",
    "        if not row[3] in ids:\n",
    "            print(row)"
   ]
  }
 ],
 "metadata": {
  "anaconda-cloud": {},
  "kernelspec": {
   "display_name": "Python 3",
   "language": "python",
   "name": "python3"
  },
  "language_info": {
   "codemirror_mode": {
    "name": "ipython",
    "version": 3
   },
   "file_extension": ".py",
   "mimetype": "text/x-python",
   "name": "python",
   "nbconvert_exporter": "python",
   "pygments_lexer": "ipython3",
   "version": "3.6.4"
  }
 },
 "nbformat": 4,
 "nbformat_minor": 1
}
