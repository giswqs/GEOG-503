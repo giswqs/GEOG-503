{
 "cells": [
  {
   "cell_type": "markdown",
   "metadata": {},
   "source": [
    "# GEOG-503 Lab 4\n",
    "\n",
    "## Due date: \n",
    "Sep 26 (Wednesday) 11:59 pm\n",
    "\n",
    "## What to submit:\n",
    "\n",
    "The Jupyter Notebook that contains solutions to the following questions. File name convention for submission: ** lastname_firstname_lab4.ipynb **\n",
    "\n",
    "It must be submitted to [myCourses](https://mycourses.binghamton.edu/)\n",
    "\n",
    "## Questions\n",
    "\n",
    "Answer the questions or complete the tasks outlined in bold below, use the specific method described if applicable.\n",
    "\n",
    "## Grading\n",
    "* 8 for points each question."
   ]
  },
  {
   "cell_type": "markdown",
   "metadata": {},
   "source": [
    "# Question 1\n",
    "\n",
    "Write a script that prints out the shapefiles whose filename contains character ‘a’. (8 pt.)"
   ]
  },
  {
   "cell_type": "code",
   "execution_count": 1,
   "metadata": {},
   "outputs": [],
   "source": []
  },
  {
   "cell_type": "code",
   "execution_count": 2,
   "metadata": {
    "scrolled": true
   },
   "outputs": [
    {
     "name": "stdout",
     "output_type": "stream",
     "text": [
      "facilities.shp\n",
      "hospitals.shp\n",
      "parks.shp\n"
     ]
    }
   ],
   "source": []
  },
  {
   "cell_type": "markdown",
   "metadata": {},
   "source": [
    "# Question 2\n",
    "\n",
    "Write a script that runs the Dissolve tool on the **parks.shp** feature class using the **PARK_TYPE** field as the field for aggregating features. Specify that multipart features are not allowed. Input and Output parameters must use variables. Do not use hard-coded parameters. (8 pt.)"
   ]
  },
  {
   "cell_type": "code",
   "execution_count": null,
   "metadata": {},
   "outputs": [],
   "source": []
  },
  {
   "cell_type": "code",
   "execution_count": 3,
   "metadata": {},
   "outputs": [
    {
     "name": "stdout",
     "output_type": "stream",
     "text": [
      "Executing: Dissolve C:\\Geog503\\lab4\\parks.shp C:\\Geog503\\lab4\\Results\\Dissolve_Parks.shp PARK_TYPE # SINGLE_PART DISSOLVE_LINES\n",
      "Start Time: Tue Sep 18 17:46:55 2018\n",
      "Sorting Attributes...\n",
      "Dissolving...\n",
      "Succeeded at Tue Sep 18 17:46:56 2018 (Elapsed Time: 0.40 seconds)\n"
     ]
    }
   ],
   "source": []
  },
  {
   "cell_type": "markdown",
   "metadata": {},
   "source": [
    "# Question 3\n",
    "\n",
    "Write a script that calculates the **SUM** area of each **PARK_TYPE** based on the **parks.shp**. Input and Output parameters must use variables. Do not use hard-coded parameters. (8 pt.)"
   ]
  },
  {
   "cell_type": "code",
   "execution_count": null,
   "metadata": {},
   "outputs": [],
   "source": []
  },
  {
   "cell_type": "code",
   "execution_count": 4,
   "metadata": {},
   "outputs": [
    {
     "name": "stdout",
     "output_type": "stream",
     "text": [
      "Executing: Statistics C:\\Geog503\\lab4\\parks.shp C:\\Geog503\\lab4\\Results\\Sum_Park.dbf \"SHAPE_AREA SUM\" PARK_TYPE\n",
      "Start Time: Tue Sep 18 17:46:56 2018\n",
      "Succeeded at Tue Sep 18 17:46:56 2018 (Elapsed Time: 0.05 seconds)\n"
     ]
    }
   ],
   "source": []
  },
  {
   "cell_type": "markdown",
   "metadata": {},
   "source": [
    "# Question 4\n",
    "\n",
    "Write a script that defines projection on the **hospitals.shp** based on the projection of **facilities.shp**. Input and Output parameters must use variables. Do not use hard-coded parameters. (8 pt.)"
   ]
  },
  {
   "cell_type": "code",
   "execution_count": null,
   "metadata": {},
   "outputs": [],
   "source": []
  },
  {
   "cell_type": "code",
   "execution_count": 5,
   "metadata": {},
   "outputs": [
    {
     "name": "stdout",
     "output_type": "stream",
     "text": [
      "Executing: DefineProjection C:\\Geog503\\lab4\\hospitals.shp PROJCS['NAD_1983_StatePlane_Texas_Central_FIPS_4203_Feet',GEOGCS['GCS_North_American_1983',DATUM['D_North_American_1983',SPHEROID['GRS_1980',6378137.0,298.257222101]],PRIMEM['Greenwich',0.0],UNIT['Degree',0.0174532925199433]],PROJECTION['Lambert_Conformal_Conic'],PARAMETER['False_Easting',2296583.333333333],PARAMETER['False_Northing',9842500.0],PARAMETER['Central_Meridian',-100.3333333333333],PARAMETER['Standard_Parallel_1',30.11666666666667],PARAMETER['Standard_Parallel_2',31.88333333333333],PARAMETER['Latitude_Of_Origin',29.66666666666667],UNIT['Foot_US',0.3048006096012192]]\n",
      "Start Time: Tue Sep 18 17:46:56 2018\n",
      "Succeeded at Tue Sep 18 17:46:56 2018 (Elapsed Time: 0.01 seconds)\n"
     ]
    }
   ],
   "source": []
  },
  {
   "cell_type": "markdown",
   "metadata": {},
   "source": [
    "# Question 5\n",
    "\n",
    "Write a script that determines whether the following extensions are available: ArcGIS 3D Analyst, Spatial Analyst, Geostatistical Analyst, and Tracking Analyst. The script should print an informative message with the results, such as \"The following extensions are available: ... “ (8 pt.)"
   ]
  },
  {
   "cell_type": "code",
   "execution_count": null,
   "metadata": {},
   "outputs": [],
   "source": []
  },
  {
   "cell_type": "code",
   "execution_count": 6,
   "metadata": {},
   "outputs": [
    {
     "name": "stdout",
     "output_type": "stream",
     "text": [
      "The following extensions are available:\n",
      "ArcGIS 3D Analyst\n",
      "Spatial Analyst\n",
      "Geostatistical Analyst\n",
      "Tracking Analyst\n"
     ]
    }
   ],
   "source": []
  }
 ],
 "metadata": {
  "anaconda-cloud": {},
  "kernelspec": {
   "display_name": "arcgis",
   "language": "python",
   "name": "arcgis"
  },
  "language_info": {
   "codemirror_mode": {
    "name": "ipython",
    "version": 2
   },
   "file_extension": ".py",
   "mimetype": "text/x-python",
   "name": "python",
   "nbconvert_exporter": "python",
   "pygments_lexer": "ipython2",
   "version": "2.7.14"
  }
 },
 "nbformat": 4,
 "nbformat_minor": 1
}
