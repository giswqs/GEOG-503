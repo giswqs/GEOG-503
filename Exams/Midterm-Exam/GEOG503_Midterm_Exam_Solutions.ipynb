{
 "cells": [
  {
   "cell_type": "markdown",
   "metadata": {},
   "source": [
    "# GEOG-503 Midterm Exam\n",
    "\n",
    "## Due date: \n",
    "Oct 19 (Friday) 9:30 am\n",
    "\n",
    "## What to submit:\n",
    "\n",
    "The Jupyter Notebook that contains solutions to the following questions. File name convention for submission: ** lastname_firstname_midterm.ipynb **\n",
    "\n",
    "It must be submitted to [myCourses](https://mycourses.binghamton.edu/)\n",
    "\n",
    "## Questions\n",
    "\n",
    "Answer the questions or complete the tasks outlined in bold below, use the specific method described if applicable.\n",
    "\n",
    "## Data\n",
    "* http://spatial.binghamton.edu/geog503/data/midterm_data.zip"
   ]
  },
  {
   "cell_type": "markdown",
   "metadata": {},
   "source": [
    "# Question 1\n",
    "\n",
    "Write a program that repeatedly prompts a user for numbers until the user enters '**done**'. Once 'done' is entered, print out the **smallest, largest, mean, median, and sum** of the numbers. If the user enters anything other than a valid number put out an appropriate message and ignore the number. (25 pt.)\n"
   ]
  },
  {
   "cell_type": "code",
   "execution_count": 1,
   "metadata": {},
   "outputs": [
    {
     "name": "stdout",
     "output_type": "stream",
     "text": [
      "Enter a number (enter 'done' to quit): 1\n",
      "Enter a number (enter 'done' to quit): 3\n",
      "Enter a number (enter 'done' to quit): 5\n",
      "Enter a number (enter 'done' to quit): 7\n",
      "Enter a number (enter 'done' to quit): 6\n",
      "Enter a number (enter 'done' to quit): 2\n",
      "Enter a number (enter 'done' to quit): haha\n",
      "Please enter a valid number\n",
      "Enter a number (enter 'done' to quit): this is fun!\n",
      "Please enter a valid number\n",
      "Enter a number (enter 'done' to quit): done\n",
      "The numbers you entered are: [1.0, 3.0, 5.0, 7.0, 6.0, 2.0]\n",
      "Smallest: 1.0\n",
      "Largest: 7.0\n",
      "Mean: 4.0\n",
      "Median: 4.0\n",
      "Sum: 24.0\n"
     ]
    }
   ],
   "source": [
    "import numpy as np\n",
    "values_list = []\n",
    "while True:\n",
    "    try:\n",
    "        in_str = raw_input(\"Enter a number (enter 'done' to quit): \")\n",
    "        if in_str == \"done\" and len(values_list) > 0:\n",
    "            print(\"The numbers you entered are: {}\".format(values_list))\n",
    "            print(\"Smallest: {}\".format(np.min(values_list)))\n",
    "            print(\"Largest: {}\".format(np.max(values_list)))\n",
    "            print(\"Mean: {}\".format(np.mean(values_list)))\n",
    "            print(\"Median: {}\".format(np.median(values_list)))\n",
    "            print(\"Sum: {}\".format(np.sum(values_list)))\n",
    "            break   \n",
    "        else: \n",
    "            values_list.append(float(in_str))\n",
    "    except:\n",
    "         print(\"Please enter a valid number\")"
   ]
  },
  {
   "cell_type": "markdown",
   "metadata": {},
   "source": [
    "# Question 2\n",
    "\n",
    "Write a script that copies feature classes and raster datasets from **testdata.gdb** to the Results folder. Feature classes can be saved as Shapefile format while raster datasets can be saved as TIF format. The output file names must meet the following requirements:\n",
    "\n",
    "* For a feature class, the output file name must be prefixed by its shape type: **Point/Polyline/Polygon**. For example: Polygon_buffers.shp, Point_NWIS_sites.shp.    \n",
    "\n",
    "* For a raster dataset, the output file name must be prefixed by the word: **Raster**. For example: Raster_Landcover.tif\n",
    "\n",
    "Note that you cannot use hard-coded filename to specify which file to copy. (25 pt.)"
   ]
  },
  {
   "cell_type": "code",
   "execution_count": 2,
   "metadata": {},
   "outputs": [],
   "source": [
    "try:\n",
    "    import archook #The module which locates arcgis\n",
    "    archook.get_arcpy()\n",
    "    import arcpy\n",
    "except ImportError:\n",
    "    print(\"import arcpy error\")"
   ]
  },
  {
   "cell_type": "code",
   "execution_count": 3,
   "metadata": {
    "scrolled": true
   },
   "outputs": [
    {
     "name": "stdout",
     "output_type": "stream",
     "text": [
      "buffers         is a Polygon  feature class... Copying to C:\\Geog503\\data\\Results\\Polygon_buffers.shp\n",
      "LittlePolys     is a Polygon  feature class... Copying to C:\\Geog503\\data\\Results\\Polygon_LittlePolys.shp\n",
      "Watersheds      is a Polygon  feature class... Copying to C:\\Geog503\\data\\Results\\Polygon_Watersheds.shp\n",
      "rivers          is a Polyline feature class... Copying to C:\\Geog503\\data\\Results\\Polyline_rivers.shp\n",
      "weedpt          is a Point    feature class... Copying to C:\\Geog503\\data\\Results\\Point_weedpt.shp\n",
      "NWIS_sites      is a Point    feature class... Copying to C:\\Geog503\\data\\Results\\Point_NWIS_sites.shp\n"
     ]
    }
   ],
   "source": [
    "import arcpy\n",
    "import os\n",
    "workspace = r\"C:\\geog503\\data\\testdata.gdb\"\n",
    "out_dir = r\"C:\\Geog503\\data\\Results\"\n",
    "arcpy.env.workspace = workspace\n",
    "arcpy.env.overwriteOutput = True\n",
    "fc_list = arcpy.ListFeatureClasses()\n",
    "for fc in fc_list:\n",
    "    desc = arcpy.Describe(fc)\n",
    "    shapeType = desc.shapeType\n",
    "    out_name = shapeType + \"_\" + fc + \".shp\"\n",
    "    out_path = os.path.join(out_dir, out_name)\n",
    "    print(\"{:15} is a {:8} feature class... Copying to {}\".format(fc, shapeType, out_path))\n",
    "    arcpy.CopyFeatures_management(fc, out_path)"
   ]
  },
  {
   "cell_type": "code",
   "execution_count": 4,
   "metadata": {},
   "outputs": [
    {
     "name": "stdout",
     "output_type": "stream",
     "text": [
      "ElevationFloat  is a RasterDataset... Copying to C:\\Geog503\\data\\Results\\Raster_ElevationFloat.tif\n",
      "ElevationInt    is a RasterDataset... Copying to C:\\Geog503\\data\\Results\\Raster_ElevationInt.tif\n",
      "Geology         is a RasterDataset... Copying to C:\\Geog503\\data\\Results\\Raster_Geology.tif\n",
      "Landcover       is a RasterDataset... Copying to C:\\Geog503\\data\\Results\\Raster_Landcover.tif\n"
     ]
    }
   ],
   "source": [
    "ras_list = arcpy.ListRasters()\n",
    "for ras in ras_list:\n",
    "    desc = arcpy.Describe(ras)\n",
    "    datasetType = desc.datasetType\n",
    "    out_name = \"Raster_\" + ras + \".tif\"\n",
    "    out_path = os.path.join(out_dir, out_name)\n",
    "    print(\"{:15} is a {:8}... Copying to {}\".format(ras, datasetType, out_path))\n",
    "    arcpy.CopyRaster_management(ras, out_path)"
   ]
  },
  {
   "cell_type": "markdown",
   "metadata": {},
   "source": [
    "# Question 3\n",
    "\n",
    "Write a script that converts the **airports.txt** into a Point-type shapefile. The resulting shapefile should have the following fields based on the information from the airports.txt, including **NAME, LOCID, X, and Y**.  (25 pt.)"
   ]
  },
  {
   "cell_type": "code",
   "execution_count": 5,
   "metadata": {
    "scrolled": true
   },
   "outputs": [
    {
     "name": "stdout",
     "output_type": "stream",
     "text": [
      "The output is saved at: C:\\Geog503\\data\\Results\\airports.shp\n"
     ]
    }
   ],
   "source": [
    "import arcpy\n",
    "import os\n",
    "workspace =  r\"C:\\Geog503\\data\\Results\"\n",
    "infile = r\"C:\\Geog503\\data\\airports.txt\"\n",
    "prj =  r\"C:\\Geog503\\data\\airports.prj\"\n",
    "\n",
    "arcpy.env.workspace = workspace\n",
    "arcpy.env.overwriteOutput = True\n",
    "\n",
    "pointList =[]\n",
    "fc = os.path.splitext(os.path.basename(infile))[0] + \".shp\"\n",
    "\n",
    "f = open(infile)\n",
    "for line in f.readlines():\n",
    "    list1 = line.split(\", \")\n",
    "    point = []\n",
    "    for item in list1:\n",
    "        subitem = item.split(\": \")\n",
    "        point.append(subitem[1].strip('\\n'))\n",
    "    pointList.append(point)\n",
    "\n",
    "spatialRef = arcpy.SpatialReference(prj)\n",
    "arcpy.CreateFeatureclass_management(workspace,fc,\"Point\",spatial_reference=spatialRef)\n",
    "\n",
    "arcpy.AddField_management(fc,\"Name\",\"string\",field_length=50)\n",
    "arcpy.AddField_management(fc,\"LOCID\",\"string\",field_length=10)\n",
    "arcpy.AddField_management(fc,\"X\",\"float\")\n",
    "arcpy.AddField_management(fc,\"Y\",\"float\")\n",
    "\n",
    "fields = [\"Id\",\"NAME\",\"LOCID\",\"X\",\"Y\",\"SHAPE@X\",\"SHAPE@Y\"]\n",
    "cursor = arcpy.da.InsertCursor(fc, fields)\n",
    "\n",
    "for point in pointList:\n",
    "    id = int(point[0])\n",
    "    name = point[1]\n",
    "    locid = point[2]\n",
    "    x = float(point[3])\n",
    "    y = float(point[4])\n",
    "    cursor.insertRow([id,name,locid,x,y,x,y])\n",
    "del cursor\n",
    "print(\"The output is saved at: {}\".format(os.path.join(workspace, fc)))"
   ]
  },
  {
   "cell_type": "markdown",
   "metadata": {},
   "source": [
    "# Question 4\n",
    "\n",
    "Write a script that creates a minimum bounding rectangle for the **Hawaii.shp** feature class. There is a tool called [Minimum Bounding Geometry](https://goo.gl/PdRWUP) that can do this. However, your script should NOT use the tool arcpy.MinimumBoundingGeometry_management. Instead, use the [hullRectange](https://goo.gl/QJxpmp) properties of a Geometry object to create the minimum bounding rectange (25 pt.)"
   ]
  },
  {
   "cell_type": "code",
   "execution_count": 6,
   "metadata": {},
   "outputs": [
    {
     "name": "stdout",
     "output_type": "stream",
     "text": [
      "Coordinates of the minimum bounding rectangle:\n",
      "X = 369452.444658486, Y = 2413270.8632363\n",
      "X = 453956.568571401, Y = 2540498.57597544\n",
      "X = 966495.579671934, Y = 2200072.27127229\n",
      "X = 881991.455755093, Y = 2072844.55853016\n"
     ]
    },
    {
     "data": {
      "text/plain": [
       "<Result 'C:\\\\Geog503\\\\data\\\\Results\\\\Q4_envelope.shp'>"
      ]
     },
     "execution_count": 6,
     "metadata": {},
     "output_type": "execute_result"
    }
   ],
   "source": [
    "import arcpy\n",
    "fc = r\"C:\\Geog503\\data\\hawaii.shp\"\n",
    "workspace = r\"C:\\Geog503\\data\\Results\"\n",
    "out_file = \"Q4_envelope.shp\"\n",
    "arcpy.env.workspace = workspace\n",
    "geomList = arcpy.CopyFeatures_management(fc,arcpy.Geometry())\n",
    "pnt = arcpy.Point()\n",
    "array = arcpy.Array()\n",
    "for geom in geomList:\n",
    "    coord_list = geom.hullRectangle.split(\" \")\n",
    "    point_count = len(coord_list)/2\n",
    "    print('Coordinates of the minimum bounding rectangle:')\n",
    "    for i in range(0, point_count):\n",
    "        X = coord_list[i*2]\n",
    "        Y =  coord_list[i*2+1]\n",
    "        pnt.X = X\n",
    "        pnt.Y = Y\n",
    "        array.add(pnt)\n",
    "        print('X = {}, Y = {}'.format(X,Y))\n",
    "poly = arcpy.Polygon(array)\n",
    "arcpy.CopyFeatures_management(poly,out_file)          "
   ]
  }
 ],
 "metadata": {
  "anaconda-cloud": {},
  "kernelspec": {
   "display_name": "arcgis",
   "language": "python",
   "name": "arcgis"
  },
  "language_info": {
   "codemirror_mode": {
    "name": "ipython",
    "version": 2
   },
   "file_extension": ".py",
   "mimetype": "text/x-python",
   "name": "python",
   "nbconvert_exporter": "python",
   "pygments_lexer": "ipython2",
   "version": "2.7.14"
  }
 },
 "nbformat": 4,
 "nbformat_minor": 1
}
