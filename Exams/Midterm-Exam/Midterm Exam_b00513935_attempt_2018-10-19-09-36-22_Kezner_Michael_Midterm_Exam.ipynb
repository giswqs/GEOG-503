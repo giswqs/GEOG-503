{
 "cells": [
  {
   "cell_type": "markdown",
   "metadata": {},
   "source": [
    "# GEOG-503 Midterm Exam\n",
    "\n",
    "## Due date: \n",
    "Oct 19 (Friday) 9:30 am\n",
    "\n",
    "## What to submit:\n",
    "\n",
    "The Jupyter Notebook that contains solutions to the following questions. File name convention for submission: ** lastname_firstname_midterm.ipynb **\n",
    "\n",
    "It must be submitted to [myCourses](https://mycourses.binghamton.edu/)\n",
    "\n",
    "## Questions\n",
    "\n",
    "Answer the questions or complete the tasks outlined in bold below, use the specific method described if applicable.\n",
    "\n",
    "## Data\n",
    "* http://spatial.binghamton.edu/geog503/data/midterm_data.zip"
   ]
  },
  {
   "cell_type": "markdown",
   "metadata": {},
   "source": [
    "# Question 1\n",
    "\n",
    "Write a program that repeatedly prompts a user for numbers until the user enters '**done**'. Once 'done' is entered, print out the **smallest, largest, mean, median, and sum** of the numbers. If the user enters anything other than a valid number put out an appropriate message and ignore the number. (25 pt.)\n"
   ]
  },
  {
   "cell_type": "code",
   "execution_count": 1,
   "metadata": {},
   "outputs": [],
   "source": [
    "try:\n",
    "    import archook #The module which locates arcgis\n",
    "    archook.get_arcpy()\n",
    "    import arcpy\n",
    "except ImportError:\n",
    "    print(\"import arcpy error\")"
   ]
  },
  {
   "cell_type": "code",
   "execution_count": 2,
   "metadata": {},
   "outputs": [],
   "source": [
    "from arcpy import env\n",
    "workspace = r\"C:\\Geog503\\Midterm\\data\"\n",
    "env.workspace = workspace\n",
    "env.overwriteOutput = True"
   ]
  },
  {
   "cell_type": "code",
   "execution_count": 1,
   "metadata": {},
   "outputs": [
    {
     "name": "stdout",
     "output_type": "stream",
     "text": [
      "Please enter several numbers (enter 'done' to quit): 5\n",
      "Please enter several numbers (enter 'done' to quit): 6\n",
      "Please enter several numbers (enter 'done' to quit): 3\n",
      "Please enter several numbers (enter 'done' to quit): F\n"
     ]
    },
    {
     "ename": "ValueError",
     "evalue": "could not convert string to float: 'F'",
     "output_type": "error",
     "traceback": [
      "\u001b[0;31m---------------------------------------------------------------------------\u001b[0m",
      "\u001b[0;31mValueError\u001b[0m                                Traceback (most recent call last)",
      "\u001b[0;32m<ipython-input-1-7b3365fbc9cf>\u001b[0m in \u001b[0;36m<module>\u001b[0;34m()\u001b[0m\n\u001b[1;32m      8\u001b[0m     \u001b[0;32mif\u001b[0m \u001b[0muserin\u001b[0m \u001b[0;34m==\u001b[0m \u001b[0;34m'done'\u001b[0m\u001b[0;34m:\u001b[0m\u001b[0;34m\u001b[0m\u001b[0m\n\u001b[1;32m      9\u001b[0m         \u001b[0;32mbreak\u001b[0m\u001b[0;34m\u001b[0m\u001b[0m\n\u001b[0;32m---> 10\u001b[0;31m     \u001b[0muserin\u001b[0m \u001b[0;34m=\u001b[0m \u001b[0mfloat\u001b[0m\u001b[0;34m(\u001b[0m\u001b[0muserin\u001b[0m\u001b[0;34m)\u001b[0m\u001b[0;34m\u001b[0m\u001b[0m\n\u001b[0m\u001b[1;32m     11\u001b[0m     \u001b[0mtotal\u001b[0m \u001b[0;34m=\u001b[0m \u001b[0mtotal\u001b[0m \u001b[0;34m+\u001b[0m \u001b[0muserin\u001b[0m\u001b[0;34m\u001b[0m\u001b[0m\n\u001b[1;32m     12\u001b[0m     \u001b[0mcount\u001b[0m \u001b[0;34m=\u001b[0m \u001b[0mcount\u001b[0m \u001b[0;34m+\u001b[0m \u001b[0;36m1\u001b[0m\u001b[0;34m\u001b[0m\u001b[0m\n",
      "\u001b[0;31mValueError\u001b[0m: could not convert string to float: 'F'"
     ]
    }
   ],
   "source": [
    "largest = None\n",
    "smallest = None\n",
    "total = 0 \n",
    "count = 0\n",
    "\n",
    "while True:\n",
    "    userin = input(\"Please enter several numbers (enter 'done' to quit): \")\n",
    "    if userin == 'done':\n",
    "        break    \n",
    "    userin = float(userin)\n",
    "    total = total + userin\n",
    "    count = count + 1\n",
    "    avg = total/count\n",
    "\n",
    "    try:\n",
    "        if largest is None or largest < userin:\n",
    "            largest = userin\n",
    "        if smallest is None or smallest > userin:\n",
    "            smallest = userin\n",
    "    except ValueError:\n",
    "        print(\"Please enter a valid number.\")\n",
    "\n",
    "print(\"The sum is: {}\".format(sum(value)))\n",
    "print(\"The mean is: {}\".format(avg))\n",
    "print(\"The largest is: {}\".format(largest))\n",
    "print(\"The smallest is: {}\".format(smallest))"
   ]
  },
  {
   "cell_type": "markdown",
   "metadata": {},
   "source": [
    "# Question 2\n",
    "\n",
    "Write a script that copies feature classes and raster datasets from **testdata.gdb** to the Results folder. Feature classes can be saved as Shapefile format while raster datasets can be saved as TIF format. The output file names must meet the following requirements:\n",
    "\n",
    "* For a feature class, the output file name must be prefixed by its shape type: **Point/Polyline/Polygon**. For example: Polygon_buffers.shp, Point_NWIS_sites.shp.    \n",
    "\n",
    "* For a raster dataset, the output file name must be prefixed by the word: **Raster**. For example: Raster_Landcover.tif\n",
    "\n",
    "Note that you cannot use hard-coded filename to specify which file to copy. (25 pt.)"
   ]
  },
  {
   "cell_type": "code",
   "execution_count": 13,
   "metadata": {},
   "outputs": [],
   "source": [
    "try:\n",
    "    import archook #The module which locates arcgis\n",
    "    archook.get_arcpy()\n",
    "    import arcpy\n",
    "except ImportError:\n",
    "    print(\"import arcpy error\")"
   ]
  },
  {
   "cell_type": "code",
   "execution_count": 15,
   "metadata": {},
   "outputs": [],
   "source": [
    "env.workspace = r\"C:\\Geog503\\Midterm\\data\\testdata.gdb\"\n",
    "import os"
   ]
  },
  {
   "cell_type": "code",
   "execution_count": 29,
   "metadata": {},
   "outputs": [
    {
     "name": "stdout",
     "output_type": "stream",
     "text": [
      "buffers        is a Polygon         feature class... Copying to C:\\Geog503\\Midterm\\data\\Results/Polygon_buffers.shp\n",
      "LittlePolys    is a Polygon         feature class... Copying to C:\\Geog503\\Midterm\\data\\Results/Polygon_LittlePolys.shp\n",
      "Watersheds     is a Polygon         feature class... Copying to C:\\Geog503\\Midterm\\data\\Results/Polygon_Watersheds.shp\n",
      "rivers         is a Polyline        feature class... Copying to C:\\Geog503\\Midterm\\data\\Results/Polyline_rivers.shp\n",
      "weedpt         is a Point           feature class... Copying to C:\\Geog503\\Midterm\\data\\Results/Point_weedpt.shp\n",
      "NWIS_sites     is a Point           feature class... Copying to C:\\Geog503\\Midterm\\data\\Results/Point_NWIS_sites.shp\n"
     ]
    }
   ],
   "source": [
    "polylist = arcpy.ListFeatureClasses(feature_type= \"Polygon\")\n",
    "linelist = arcpy.ListFeatureClasses(feature_type= \"Polyline\")\n",
    "pointlist = arcpy.ListFeatureClasses(feature_type= \"Point\")\n",
    "\n",
    "outworkspace = r\"C:\\Geog503\\Midterm\\data\\Results\"\n",
    "for shape in polylist:\n",
    "    desc = arcpy.Describe(shape)\n",
    "    name = desc.shapeType + \"_\" + shape + \".shp\" \n",
    "    path = os.path.join(outworkspace, name)\n",
    "    arcpy.CopyFeatures_management(shape, path)\n",
    "    print(\"{:12}   is a {:15} feature class... Copying to {}\".format(desc.baseName, desc.shapeType, outworkspace + \"/\" + desc.shapeType + \"_\" + desc.name + \".shp\"))\n",
    "    \n",
    "for shape in linelist:\n",
    "    desc = arcpy.Describe(shape)\n",
    "    name = desc.shapeType + shape + \".shp\" \n",
    "    path = os.path.join(outworkspace, name)\n",
    "    arcpy.CopyFeatures_management(shape, path)\n",
    "    print(\"{:12}   is a {:15} feature class... Copying to {}\".format(desc.baseName, desc.shapeType, outworkspace + \"/\" + desc.shapeType + \"_\" + desc.name + \".shp\"))\n",
    "\n",
    "for shape in pointlist:\n",
    "    desc = arcpy.Describe(shape)\n",
    "    name = desc.shapeType + shape + \".shp\" \n",
    "    path = os.path.join(outworkspace, name)\n",
    "    arcpy.CopyFeatures_management(shape, path)\n",
    "    print(\"{:12}   is a {:15} feature class... Copying to {}\".format(desc.baseName, desc.shapeType, outworkspace + \"/\" + desc.shapeType + \"_\" + desc.name + \".shp\"))\n",
    "    "
   ]
  },
  {
   "cell_type": "code",
   "execution_count": 35,
   "metadata": {},
   "outputs": [
    {
     "name": "stdout",
     "output_type": "stream",
     "text": [
      "ElevationFloat  is a RasterDataset.... Copying to C:\\Geog503\\Midterm\\data\\Results/Raster_ElevationFloat.tif\n",
      "ElevationInt    is a RasterDataset.... Copying to C:\\Geog503\\Midterm\\data\\Results/Raster_ElevationInt.tif\n",
      "Geology         is a RasterDataset.... Copying to C:\\Geog503\\Midterm\\data\\Results/Raster_Geology.tif\n",
      "Landcover       is a RasterDataset.... Copying to C:\\Geog503\\Midterm\\data\\Results/Raster_Landcover.tif\n"
     ]
    }
   ],
   "source": [
    "raster = arcpy.ListRasters()\n",
    "for tif in raster:\n",
    "    desc = arcpy.Describe(tif)\n",
    "    name = \"Raster_\" + tif + \".tif\"\n",
    "    path = os.path.join(outworkspace, tif + \".tif\")\n",
    "    arcpy.CopyRaster_management(tif, path)\n",
    "    print(\"{:15} is a RasterDataset.... Copying to {}\".format(desc.baseName, outworkspace + \"/\" + name))"
   ]
  },
  {
   "cell_type": "markdown",
   "metadata": {},
   "source": [
    "# Question 3\n",
    "\n",
    "Write a script that converts the **airports.txt** into a Point-type shapefile. The resulting shapefile should have the following fields based on the information from the airports.txt, including **NAME, LOCID, X, and Y**.  (25 pt.)"
   ]
  },
  {
   "cell_type": "code",
   "execution_count": 44,
   "metadata": {},
   "outputs": [],
   "source": [
    "workspace = r\"C:\\Geog503\\Midterm\\data\\Results\"\n",
    "env.workspace = workspace\n",
    "f = open(\"C:\\Geog503\\Midterm\\data/airports.txt\", \"r\")\n",
    "airports = \"airports.shp\"\n",
    "arcpy.CreateFeatureclass_management(workspace, airports, \"POINT\")\n",
    "desc = arcpy.Describe(airports)\n",
    "arcpy.AddField_management(airports, \"NAME\", \"TEXT\")\n",
    "arcpy.AddField_management(airports, \"LOCID\", \"TEXT\")\n",
    "arcpy.AddField_management(airports, \"SHAPE@X\", \"DOUBLE\")\n",
    "arcpy.AddField_management(airports, \"SHAPE@Y\", \"DOUBLE\")\n",
    "for lines in f:\n",
    "    splitter = lines.split(\",\")\n",
    "    name = splitter[1][6:]\n",
    "    locid = splitter[2][7:]\n",
    "    x = splitter[3][3:]\n",
    "    y = splitter[4][3:]\n",
    "    fields = [\"NAME\", \"LOCID\", \"SHAPE@X\", \"SHAPE@Y\"]\n",
    "    cursor = arcpy.da.InsertCursor(airports, fields)\n",
    "    cursor.insertRow([name, locid, x, y])\n",
    "del cursor, lines\n",
    "f.close()"
   ]
  },
  {
   "cell_type": "markdown",
   "metadata": {},
   "source": [
    "# Question 4\n",
    "\n",
    "Write a script that creates a minimum bounding rectangle for the **Hawaii.shp** feature class. There is a tool called [Minimum Bounding Geometry](https://goo.gl/PdRWUP) that can do this. However, your script should NOT use the tool arcpy.MinimumBoundingGeometry_management. Instead, use the [hullRectange](https://goo.gl/QJxpmp) properties of a Geometry object to create the minimum bounding rectange (25 pt.)"
   ]
  },
  {
   "cell_type": "code",
   "execution_count": 48,
   "metadata": {},
   "outputs": [
    {
     "name": "stdout",
     "output_type": "stream",
     "text": [
      "Coordinates of the minimum bounding rectangle:\n",
      "X = 369452.444658486, Y = 2413270.8632363\n",
      "X = 453956.568571401, Y = 2540498.57597544\n",
      "X = 966495.579671934, Y = 2200072.27127229\n",
      "X = 881991.455755093, Y = 2072844.55853016\n"
     ]
    },
    {
     "data": {
      "text/plain": [
       "<Result 'C:\\\\Geog503\\\\Midterm\\\\data\\\\Results\\\\Q4_envelope.shp'>"
      ]
     },
     "execution_count": 48,
     "metadata": {},
     "output_type": "execute_result"
    }
   ],
   "source": [
    "env.workspace = r\"C:\\Geog503\\Midterm\\data\"\n",
    "geo = arcpy.Geometry()\n",
    "hawaii = \"Hawaii.shp\"\n",
    "desc = arcpy.Describe(hawaii)\n",
    "new_shape = arcpy.CopyFeatures_management(hawaii, geo)\n",
    "hull = 0\n",
    "pnt = arcpy.Point()\n",
    "array = arcpy.Array()\n",
    "print(\"Coordinates of the minimum bounding rectangle:\")\n",
    "for g in new_shape:\n",
    "    hull = g.hullRectangle\n",
    "    lst = hull.split(\" \")\n",
    "    for i in range(0, 4):\n",
    "        j = i * 2\n",
    "        x = lst[j]\n",
    "        y = lst[j + 1]\n",
    "        print(\"X = {}, Y = {}\".format(x, y))\n",
    "        pnt.X = x\n",
    "        pnt.Y = y\n",
    "        array.append(pnt)\n",
    "prj = desc.SpatialReference\n",
    "Q4_envelope = arcpy.Polygon(array, prj)\n",
    "arcpy.CopyFeatures_management(Q4_envelope, \"Results/Q4_envelope.shp\")"
   ]
  }
 ],
 "metadata": {
  "anaconda-cloud": {},
  "kernelspec": {
   "display_name": "arcgis",
   "language": "python",
   "name": "arcgis"
  },
  "language_info": {
   "codemirror_mode": {
    "name": "ipython",
    "version": 3
   },
   "file_extension": ".py",
   "mimetype": "text/x-python",
   "name": "python",
   "nbconvert_exporter": "python",
   "pygments_lexer": "ipython3",
   "version": "3.6.6"
  }
 },
 "nbformat": 4,
 "nbformat_minor": 1
}
