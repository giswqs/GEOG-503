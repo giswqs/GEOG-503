{
 "cells": [
  {
   "cell_type": "markdown",
   "metadata": {},
   "source": [
    "# Manipulating Spatial Data\n",
    "\n",
    "* arcpy.da cursors\n",
    "* Search cursor\n",
    "* Update cursor\n",
    "* Insert cursor\n",
    "* SQL query\n",
    "\n",
    "## Test Data\n",
    "* http://spatial.binghamton.edu/geog503/data/lecture7_data.zip"
   ]
  },
  {
   "cell_type": "markdown",
   "metadata": {},
   "source": [
    "## What is Cursor?\n",
    "\n",
    "* Similar to list functions:\n",
    "    - Iterate through feature classes, tables, and fields\n",
    "* Cursors:\n",
    "    - Iterate through rows in a table\n",
    "    - Read and write geometries to and from records, row by row\n",
    "\n",
    "![](https://wetlands.io/file/teaching/geog-503/images/cursors.png)"
   ]
  },
  {
   "cell_type": "markdown",
   "metadata": {},
   "source": [
    "\n",
    "## Cursor Methods\n",
    "\n",
    "* <http://desktop.arcgis.com/en/arcmap/latest/analyze/arcpy-classes/cursor.htm>\n",
    "\n",
    "![](https://wetlands.io/file/teaching/geog-503/images/cursor_methods.png)"
   ]
  },
  {
   "cell_type": "markdown",
   "metadata": {},
   "source": [
    "## General Syntax\n",
    "\n",
    "* **Required parameters:**\n",
    "    - An input table\n",
    "    - A list (or tuple) of field names\n",
    "* **General syntax:**\n",
    "    - arcpy.da.InsertCursor(in_table, field_names)\n",
    "    - arcpy.da.SearchCursor(in_table, field_names, {where_clause}, {spatial_reference}, {explore_to_points})\n",
    "    - arcpy.da.UpdateCursor(in_table, field_names, {where_clause}, {spatial_reference}, {explore_to_points})\n"
   ]
  },
  {
   "cell_type": "markdown",
   "metadata": {},
   "source": [
    "## Using the SearchCursor \n",
    "\n",
    "* **General syntax:**\n",
    "    - arcpy.da.SearchCursor(in_table, field_names, {where_clause}, {spatial_reference}, {explore_to_points})\n",
    "    - <http://desktop.arcgis.com/en/arcmap/latest/analyze/arcpy-data-access/searchcursor-class.htm>\n",
    "    \n",
    "* **Parameters:**\n",
    "\n",
    "![](https://wetlands.io/file/teaching/geog-503/images/search_cursor_params.png)\n"
   ]
  },
  {
   "cell_type": "markdown",
   "metadata": {},
   "source": [
    "* **Methods:**\n",
    "\n",
    "![](https://wetlands.io/file/teaching/geog-503/images/search_cursor_methods.png)"
   ]
  },
  {
   "cell_type": "code",
   "execution_count": 1,
   "metadata": {},
   "outputs": [],
   "source": [
    "try:\n",
    "    import archook #The module which locates arcgis\n",
    "    archook.get_arcpy()\n",
    "    import arcpy\n",
    "except ImportError:\n",
    "    print(\"import arcpy error\")"
   ]
  },
  {
   "cell_type": "code",
   "execution_count": 2,
   "metadata": {},
   "outputs": [
    {
     "name": "stdout",
     "output_type": "stream",
     "text": [
      "FID             OID\n",
      "Shape           Geometry\n",
      "AREA            Double\n",
      "PERIMETER       Double\n",
      "AIRPRTX020      Double\n",
      "LOCID           String\n",
      "FEATURE         String\n",
      "NAME            String\n",
      "TOT_ENP         Double\n",
      "STATE           String\n",
      "COUNTY          String\n",
      "FIPS            String\n",
      "STATE_FIPS      String\n"
     ]
    }
   ],
   "source": [
    "# Get column names (fields) from attribute table\n",
    "import arcpy\n",
    "arcpy.env.workspace = r\"C:\\Geog503\\data\"\n",
    "fc = \"airports.shp\"\n",
    "desc = arcpy.Describe(fc)\n",
    "fields = desc.fields\n",
    "for field in fields:\n",
    "    print(\"{:15} {}\".format(field.name, field.type))"
   ]
  },
  {
   "cell_type": "code",
   "execution_count": null,
   "metadata": {
    "scrolled": false
   },
   "outputs": [],
   "source": [
    "# print all rows of selected columns\n",
    "import arcpy\n",
    "arcpy.env.workspace = r\"C:\\Geog503\\data\"\n",
    "fc = \"airports.shp\"\n",
    "fields = [\"LOCID\", \"NAME\"]\n",
    "cursor = arcpy.da.SearchCursor(fc, fields)\n",
    "for row in cursor:\n",
    "    print(\"LOCID = {}, NAME = {}\".format(row[0], row[1]))\n",
    "del cursor, row"
   ]
  },
  {
   "cell_type": "code",
   "execution_count": 4,
   "metadata": {},
   "outputs": [
    {
     "name": "stdout",
     "output_type": "stream",
     "text": [
      "Index = 0, LOCID = 4Z7, NAME = Hyder\n",
      "Index = 1, LOCID = KCL, NAME = Chignik Lagoon\n",
      "Index = 2, LOCID = KKA, NAME = Koyuk\n",
      "Index = 3, LOCID = KVL, NAME = Kivalina\n",
      "Index = 4, LOCID = 5KE, NAME = Ketchikan Harbor\n",
      "Index = 5, LOCID = MTM, NAME = Metlakatla\n",
      "Index = 6, LOCID = KWF, NAME = Waterfall\n",
      "Index = 7, LOCID = KTN, NAME = Ketchikan\n",
      "Index = 8, LOCID = KXA, NAME = Kasaan\n",
      "Index = 9, LOCID = HYL, NAME = Hollis\n",
      "Index = 10, LOCID = CGA, NAME = Craig\n"
     ]
    }
   ],
   "source": [
    "# print only a few rows\n",
    "import arcpy\n",
    "arcpy.env.workspace = r\"C:\\Geog503\\data\"\n",
    "fc = \"airports.shp\"\n",
    "fields = [\"LOCID\", \"NAME\"]\n",
    "cursor = arcpy.da.SearchCursor(fc, fields)\n",
    "for index, row in enumerate(cursor):\n",
    "    print(\"Index = {}, LOCID = {}, NAME = {}\".format(index, row[0], row[1]))\n",
    "    if index == 10: \n",
    "        break\n",
    "del cursor, row"
   ]
  },
  {
   "cell_type": "code",
   "execution_count": 5,
   "metadata": {},
   "outputs": [
    {
     "name": "stdout",
     "output_type": "stream",
     "text": [
      "LOCID = 4Z7        NAME = Hyder                FEATURE = Seaplane Base\n",
      "LOCID = 5KE        NAME = Ketchikan Harbor     FEATURE = Seaplane Base\n",
      "LOCID = MTM        NAME = Metlakatla           FEATURE = Seaplane Base\n",
      "LOCID = KWF        NAME = Waterfall            FEATURE = Seaplane Base\n",
      "LOCID = KXA        NAME = Kasaan               FEATURE = Seaplane Base\n",
      "LOCID = HYL        NAME = Hollis               FEATURE = Seaplane Base\n",
      "LOCID = CGA        NAME = Craig                FEATURE = Seaplane Base\n",
      "LOCID = KTB        NAME = Thorne Bay           FEATURE = Seaplane Base\n",
      "LOCID = KCC        NAME = Coffman Cove         FEATURE = Seaplane Base\n",
      "LOCID = 84K        NAME = Meyers Chuck         FEATURE = Seaplane Base\n",
      "LOCID = 78K        NAME = Yes Bay Lodge        FEATURE = Seaplane Base\n",
      "LOCID = KAE        NAME = Kake                 FEATURE = Seaplane Base\n",
      "LOCID = AGN        NAME = Angoon               FEATURE = Seaplane Base\n",
      "LOCID = FNR        NAME = Funter Bay           FEATURE = Seaplane Base\n",
      "LOCID = TKE        NAME = Tenakee              FEATURE = Seaplane Base\n",
      "LOCID = HWI        NAME = Hawk Inlet           FEATURE = Seaplane Base\n",
      "LOCID = PEC        NAME = Pelican              FEATURE = Seaplane Base\n",
      "LOCID = ELV        NAME = Elfin Cove           FEATURE = Seaplane Base\n",
      "LOCID = EXI        NAME = Excursion Inlet      FEATURE = Seaplane Base\n",
      "LOCID = ALZ        NAME = Alitak               FEATURE = Seaplane Base\n",
      "LOCID = WSJ        NAME = San Juan/Uganik Bay  FEATURE = Seaplane Base\n",
      "LOCID = T44        NAME = Trident Basin        FEATURE = Seaplane Base\n",
      "LOCID = KIB        NAME = Ivanof Bay           FEATURE = Seaplane Base\n",
      "LOCID = 5Z9        NAME = Lake Brooks          FEATURE = Seaplane Base\n",
      "LOCID = LHD        NAME = Lake Hood            FEATURE = Seaplane Base\n",
      "LOCID = KQA        NAME = Akutan               FEATURE = Seaplane Base\n",
      "LOCID = KKI        NAME = Akiachak             FEATURE = Seaplane Base\n",
      "LOCID = WWT        NAME = Newtok               FEATURE = Seaplane Base\n"
     ]
    }
   ],
   "source": [
    "# Select by attribute\n",
    "import arcpy\n",
    "arcpy.env.workspace = r\"C:\\Geog503\\data\"\n",
    "fc = \"airports.shp\"\n",
    "fields = [\"LOCID\", \"NAME\", \"FEATURE\"]\n",
    "cursor = arcpy.da.SearchCursor(fc, fields, where_clause=\"\\\"FEATURE\\\" <> 'Airport'\")\n",
    "for row in cursor:\n",
    "    print(\"LOCID = {:10} NAME = {:20} FEATURE = {}\".format(row[0], row[1], row[2]))\n",
    "del cursor, row"
   ]
  },
  {
   "cell_type": "markdown",
   "metadata": {},
   "source": [
    "**With** statement:\n",
    "* Guarantee closure and release of database lock\n",
    "* Reset iteration\n"
   ]
  },
  {
   "cell_type": "code",
   "execution_count": 6,
   "metadata": {
    "code_folding": []
   },
   "outputs": [
    {
     "name": "stdout",
     "output_type": "stream",
     "text": [
      "LOCID = 4Z7, NAME = Hyder\n",
      "LOCID = KCL, NAME = Chignik Lagoon\n",
      "LOCID = KKA, NAME = Koyuk\n",
      "LOCID = KVL, NAME = Kivalina\n",
      "LOCID = 5KE, NAME = Ketchikan Harbor\n",
      "LOCID = MTM, NAME = Metlakatla\n",
      "LOCID = KWF, NAME = Waterfall\n",
      "LOCID = KTN, NAME = Ketchikan\n",
      "LOCID = KXA, NAME = Kasaan\n",
      "LOCID = HYL, NAME = Hollis\n",
      "LOCID = CGA, NAME = Craig\n"
     ]
    }
   ],
   "source": [
    "import arcpy\n",
    "import arcpy.da\n",
    "arcpy.env.workspace = r\"C:\\Geog503\\data\"\n",
    "fc = \"airports.shp\"\n",
    "fields = [\"LOCID\", \"NAME\"]\n",
    "with arcpy.da.SearchCursor(fc, fields) as cursor:\n",
    "    for index, row in enumerate(cursor):\n",
    "        print(\"LOCID = {}, NAME = {}\".format(row[0], row[1]))\n",
    "        if index == 10:\n",
    "            break"
   ]
  },
  {
   "cell_type": "markdown",
   "metadata": {},
   "source": [
    "* **Shape Field Tokens:**\n",
    "\n",
    "![](https://wetlands.io/file/teaching/geog-503/images/cursor_shape_tokens.png)"
   ]
  },
  {
   "cell_type": "code",
   "execution_count": 7,
   "metadata": {},
   "outputs": [
    {
     "name": "stdout",
     "output_type": "stream",
     "text": [
      "NAME = Hyder                X = -130.0125    Y = 55.9043\n",
      "NAME = Chignik Lagoon       X = -158.5326    Y = 56.3079\n",
      "NAME = Koyuk                X = -161.1511    Y = 64.9381\n",
      "NAME = Kivalina             X = -164.5256    Y = 67.7452\n",
      "NAME = Ketchikan Harbor     X = -131.6851    Y = 55.3478\n",
      "NAME = Metlakatla           X = -131.5781    Y = 55.1310\n",
      "NAME = Waterfall            X = -133.2433    Y = 55.2963\n",
      "NAME = Ketchikan            X = -131.7137    Y = 55.3556\n",
      "NAME = Kasaan               X = -132.3975    Y = 55.5374\n",
      "NAME = Hollis               X = -132.6461    Y = 55.4816\n",
      "NAME = Craig                X = -133.1478    Y = 55.4788\n"
     ]
    }
   ],
   "source": [
    "import arcpy\n",
    "import arcpy.da\n",
    "arcpy.env.workspace = r\"C:\\Geog503\\data\"\n",
    "fc = \"airports.shp\"\n",
    "fields = [\"NAME\",\"SHAPE@X\",\"SHAPE@Y\"]\n",
    "cursor =  arcpy.da.SearchCursor(fc, fields)\n",
    "for index, row in enumerate(cursor):\n",
    "    print(\"NAME = {:20} X = {:.4f}    Y = {:.4f}\".format(row[0],row[1],row[2]))\n",
    "    if index == 10: \n",
    "        break\n",
    "del cursor, row"
   ]
  },
  {
   "cell_type": "markdown",
   "metadata": {},
   "source": [
    "## Using the InsertCursor \n",
    "\n",
    "* **General syntax:**\n",
    "    - arcpy.da.InsertCursor(in_table, field_names)\n",
    "    - <http://desktop.arcgis.com/en/arcmap/latest/analyze/arcpy-data-access/insertcursor-class.htm>\n",
    "    \n",
    "* **Parameters:**\n",
    "\n",
    "![](https://wetlands.io/file/teaching/geog-503/images/insert_cursor_params.png)"
   ]
  },
  {
   "cell_type": "markdown",
   "metadata": {},
   "source": [
    "* **Methods:**\n",
    "\n",
    "![](https://wetlands.io/file/teaching/geog-503/images/insert_cursor_methods.png)"
   ]
  },
  {
   "cell_type": "code",
   "execution_count": 8,
   "metadata": {},
   "outputs": [],
   "source": [
    "import arcpy\n",
    "import arcpy.da\n",
    "arcpy.env.workspace = r\"C:\\Geog503\\data\"\n",
    "fc = \"airports.shp\"\n",
    "fields = [\"NAME\",\"SHAPE@X\",\"SHAPE@Y\"]\n",
    "cursor =  arcpy.da.InsertCursor(fc, fields)\n",
    "cursor.insertRow([\"Binghamton\",-155,60])\n",
    "del cursor"
   ]
  },
  {
   "cell_type": "code",
   "execution_count": 9,
   "metadata": {},
   "outputs": [],
   "source": [
    "import arcpy\n",
    "import arcpy.da\n",
    "arcpy.env.workspace = r\"C:\\Geog503\\data\"\n",
    "fc = \"airports.shp\"\n",
    "fields = [\"NAME\",\"SHAPE@XY\"]\n",
    "cursor =  arcpy.da.InsertCursor(fc,fields)\n",
    "cursor.insertRow([\"Corning\",(-154,55)])\n",
    "del cursor"
   ]
  },
  {
   "cell_type": "markdown",
   "metadata": {},
   "source": [
    "## Using the UpdateCursor \n",
    "\n",
    "* **General syntax:**\n",
    "    - arcpy.da.UpdateCursor(in_table,field_names, (where_clause},{spatial_reference}, (explode_to_points},{sql_clause})\n",
    "    - <http://desktop.arcgis.com/en/arcmap/latest/analyze/arcpy-data-access/updatecursor-class.htm>\n",
    "    \n",
    "* **Parameters:**\n",
    "\n",
    "![](https://wetlands.io/file/teaching/geog-503/images/update_cursor_params.png)"
   ]
  },
  {
   "cell_type": "markdown",
   "metadata": {},
   "source": [
    "* **Methods:**\n",
    "\n",
    "![](https://wetlands.io/file/teaching/geog-503/images/update_cursor_methods.png)"
   ]
  },
  {
   "cell_type": "markdown",
   "metadata": {},
   "source": [
    "* **updateRow example:**"
   ]
  },
  {
   "cell_type": "code",
   "execution_count": 10,
   "metadata": {},
   "outputs": [],
   "source": [
    "import arcpy\n",
    "arcpy.env.workspace = r\"C:\\Geog503\\data\"\n",
    "fc = \"airports.shp\"\n",
    "fields = [\"NAME\"]\n",
    "cursor =  arcpy.da.UpdateCursor(fc, fields)\n",
    "for row in cursor:\n",
    "    if row[0] == \"Binghamton\":\n",
    "        row[0] = \"Albany\"\n",
    "        cursor.updateRow(row)\n",
    "del cursor, row"
   ]
  },
  {
   "cell_type": "markdown",
   "metadata": {},
   "source": [
    "* **deleteRow example:**"
   ]
  },
  {
   "cell_type": "code",
   "execution_count": 11,
   "metadata": {},
   "outputs": [],
   "source": [
    "import arcpy\n",
    "arcpy.env.workspace = r\"C:\\Geog503\\data\"\n",
    "fc = \"airports.shp\"\n",
    "fields = [\"NAME\"]\n",
    "cursor =  arcpy.da.UpdateCursor(fc, fields)\n",
    "for row in cursor:\n",
    "    if row[0] == \"Albany\" or row[0] == \"Corning\":\n",
    "        cursor.deleteRow()\n",
    "del cursor, row"
   ]
  },
  {
   "cell_type": "markdown",
   "metadata": {},
   "source": [
    "## Cursor Table Locking\n",
    "\n",
    "* **Shared lock**\n",
    "    - Placed on a table any time a table or feature class is accessed by ArcGIS.\n",
    "    - Examples of shared locks: Displaying a feature class in ArcMap or previewing a table in ArcCatalog.\n",
    "\n",
    "* **Exclusive lock**\n",
    "    - Applied when changes are made to a table or feature class, either to field values or to the schema.\n",
    "    - Examples of when an exclusive lock is applied: Using an UpdateCursor or InsertCursor in a Python IDE, saving edits to a feature class in ArcMap, or changing the schema in ArcCatalog.\n",
    "    \n",
    "* **Release the lock**\n",
    "    - del row\n",
    "    - del cursor"
   ]
  },
  {
   "cell_type": "code",
   "execution_count": 12,
   "metadata": {},
   "outputs": [],
   "source": [
    "import arcpy\n",
    "arcpy.env.workspace = r\"C:\\Geog503\\data\"\n",
    "fc = \"airports.shp\"\n",
    "fields = [\"NAME\"]\n",
    "cursor =  arcpy.da.UpdateCursor(fc, fields)\n",
    "for row in cursor:\n",
    "    if row[0] == \"Albany\":\n",
    "        cursor.deleteRow()\n",
    "del row\n",
    "del cursor"
   ]
  },
  {
   "cell_type": "markdown",
   "metadata": {},
   "source": [
    "## Using SQL in Python\n",
    "\n",
    "* **Structured Query Language (SQL)**\n",
    "    - Apply a query based on attribute table\n",
    "    - As where_clause parameters in many tools in ArcToolbox\n",
    "\n",
    "* **Example:**\n",
    "    - SearchCursor(in_table, field_names {where_clause}, {spatial_reference}, {fields}, {explode_to_points})\n",
    "    - Select_analysis(in_features, out_feature_class, {where_clause})"
   ]
  },
  {
   "cell_type": "code",
   "execution_count": 13,
   "metadata": {},
   "outputs": [
    {
     "name": "stdout",
     "output_type": "stream",
     "text": [
      "LOCID = GNU\n"
     ]
    }
   ],
   "source": [
    "import arcpy\n",
    "arcpy.env.workspace = r\"C:\\Geog503\\data\"\n",
    "fc = \"airports.shp\"\n",
    "fields = [\"NAME\",\"LOCID\"]\n",
    "cursor =  arcpy.da.SearchCursor(fc, fields)\n",
    "for row in cursor:\n",
    "    if row[0] == \"Goodnews\":\n",
    "        print(\"LOCID = {}\".format(row[1]))\n",
    "del cursor"
   ]
  },
  {
   "cell_type": "markdown",
   "metadata": {},
   "source": [
    "* **Field delimiters**\n",
    "    - (\" \") for shapefiles and file geodatabase feature classes\n",
    "    - ([ ]) for personal geodatabase feature classes\n",
    "    \n",
    "* **AddFieldDelimiters function**\n",
    "    - AddFieldDelimiters(datasource,field)\n",
    "    \n",
    "![](https://wetlands.io/file/teaching/geog-503/images/sql.png)"
   ]
  },
  {
   "cell_type": "code",
   "execution_count": 14,
   "metadata": {},
   "outputs": [
    {
     "name": "stdout",
     "output_type": "stream",
     "text": [
      "\"NAME\"='Goodnews'\n",
      "LOCID = GNU\n"
     ]
    }
   ],
   "source": [
    "import arcpy\n",
    "arcpy.env.workspace = r\"C:\\Geog503\\data\"\n",
    "fc = \"airports.shp\"\n",
    "fieldname = \"NAME\"\n",
    "delimfield = arcpy.AddFieldDelimiters(fc,fieldname)\n",
    "where_clause = delimfield + \"='Goodnews'\"\n",
    "print(where_clause)\n",
    "cursor =  arcpy.da.SearchCursor(fc,[\"NAME\",\"LOCID\"],where_clause)\n",
    "for row in cursor:\n",
    "    print(\"LOCID = {}\".format(row[1]))\n",
    "del cursor, row"
   ]
  },
  {
   "cell_type": "markdown",
   "metadata": {},
   "source": [
    "## Validating Table Names\n",
    "\n",
    "* **Determine whether a table name is valid for a workspace**\n",
    "* **General syntax:**\n",
    "    - arcpy.ValidateTableName(name, {workspace})\n",
    "* **Any invalid characters will be replaced by an underscore (_)**\n"
   ]
  },
  {
   "cell_type": "code",
   "execution_count": 15,
   "metadata": {},
   "outputs": [
    {
     "name": "stdout",
     "output_type": "stream",
     "text": [
      "all_roads\n"
     ]
    }
   ],
   "source": [
    "import arcpy\n",
    "workspace = r\"C:\\Geog503\\data\\testdata.gdb\"\n",
    "table = arcpy.ValidateTableName(\"all roads\",workspace)\n",
    "print(table)"
   ]
  },
  {
   "cell_type": "code",
   "execution_count": 16,
   "metadata": {},
   "outputs": [
    {
     "name": "stdout",
     "output_type": "stream",
     "text": [
      "airports.shp\n",
      "C:\\Geog503\\data\\testdata.gdb\\airports\n",
      "alaska.shp\n",
      "C:\\Geog503\\data\\testdata.gdb\\alaska\n",
      "roads.shp\n",
      "C:\\Geog503\\data\\testdata.gdb\\roads\n"
     ]
    }
   ],
   "source": [
    "import arcpy\n",
    "import os\n",
    "arcpy.env.workspace = r\"C:\\Geog503\\data\"\n",
    "outworkspace =  r\"C:\\Geog503\\data\\testdata.gdb\"\n",
    "fclist = arcpy.ListFeatureClasses()\n",
    "for fc in fclist:\n",
    "    print(fc)\n",
    "    fcname = arcpy.Describe(fc).basename\n",
    "    newfcname = arcpy.ValidateTableName(fcname)\n",
    "    outfc = os.path.join(outworkspace,newfcname)\n",
    "    print(outfc)\n",
    "    arcpy.CopyFeatures_management(fc,outfc)"
   ]
  },
  {
   "cell_type": "markdown",
   "metadata": {},
   "source": [
    "## Validating Field Names\n",
    "\n",
    "* **Determine whether a field name is valid for a workspace**\n",
    "* **General syntax:**\n",
    "    - arcpy.ValidateFieldName(name, {workspace})\n",
    "* **Any invalid characters will be replaced by an underscore (_)**"
   ]
  },
  {
   "cell_type": "code",
   "execution_count": 17,
   "metadata": {},
   "outputs": [
    {
     "data": {
      "text/plain": [
       "<Result 'C:\\\\Geog503\\\\data\\\\airports.shp'>"
      ]
     },
     "execution_count": 17,
     "metadata": {},
     "output_type": "execute_result"
    }
   ],
   "source": [
    "import arcpy\n",
    "fc = r\"C:\\Geog503\\data\\airports.shp\"\n",
    "fieldname = arcpy.ValidateFieldName(\"NEW%&\",fc)\n",
    "arcpy.AddField_management(fc,fieldname,\"TEXT\",\"\",\"\",10)"
   ]
  },
  {
   "cell_type": "code",
   "execution_count": 18,
   "metadata": {},
   "outputs": [
    {
     "name": "stdout",
     "output_type": "stream",
     "text": [
      "FID\n",
      "Shape\n",
      "AREA\n",
      "PERIMETER\n",
      "AIRPRTX020\n",
      "LOCID\n",
      "FEATURE\n",
      "NAME\n",
      "TOT_ENP\n",
      "STATE\n",
      "COUNTY\n",
      "FIPS\n",
      "STATE_FIPS\n",
      "NEW__\n"
     ]
    }
   ],
   "source": [
    "fields = arcpy.ListFields(fc)\n",
    "for field in fields:\n",
    "    print(field.name)"
   ]
  },
  {
   "cell_type": "markdown",
   "metadata": {},
   "source": [
    "## Creating Unique Names\n",
    "\n",
    "* **Creates a unique filename in the specified workspace by appending a number to the input name**"
   ]
  },
  {
   "cell_type": "code",
   "execution_count": 19,
   "metadata": {},
   "outputs": [
    {
     "data": {
      "text/plain": [
       "<Result 'C:\\\\Geog503\\\\data\\\\Results\\\\buffer.shp'>"
      ]
     },
     "execution_count": 19,
     "metadata": {},
     "output_type": "execute_result"
    }
   ],
   "source": [
    "import arcpy\n",
    "arcpy.env.workspace = r\"C:\\Geog503\\data\\Results\"\n",
    "fc = r\"C:\\Geog503\\data\\airports.shp\"\n",
    "unique_name = arcpy.CreateUniqueName(\"buffer.shp\")\n",
    "arcpy.Buffer_analysis(fc,unique_name,\"1000 FEET\")"
   ]
  },
  {
   "cell_type": "code",
   "execution_count": 20,
   "metadata": {},
   "outputs": [
    {
     "data": {
      "text/plain": [
       "<Result 'C:\\\\Geog503\\\\data\\\\Results\\\\buffer0.shp'>"
      ]
     },
     "execution_count": 20,
     "metadata": {},
     "output_type": "execute_result"
    }
   ],
   "source": [
    "import arcpy\n",
    "arcpy.env.workspace = r\"C:\\Geog503\\data\\Results\"\n",
    "fc = r\"C:\\Geog503\\data\\airports.shp\"\n",
    "unique_name = arcpy.CreateUniqueName(\"buffer.shp\")\n",
    "arcpy.Buffer_analysis(fc,unique_name,\"1000 FEET\")"
   ]
  },
  {
   "cell_type": "markdown",
   "metadata": {},
   "source": [
    "## Parsing Table and Field Names\n",
    "\n",
    "* **ParseTableName function**\n",
    "    - Return database name, owner name, and table name.\n",
    "    - Separated by a comma (,)"
   ]
  },
  {
   "cell_type": "code",
   "execution_count": 21,
   "metadata": {},
   "outputs": [
    {
     "name": "stdout",
     "output_type": "stream",
     "text": [
      "(null)\n",
      "(null)\n",
      "C:\\Geog503\\data\\airports.shp\n"
     ]
    }
   ],
   "source": [
    "import arcpy\n",
    "arcpy.env.workspace = r\"C:\\Geog503\\data\\Results\"\n",
    "fc = r\"C:\\Geog503\\data\\airports.shp\"\n",
    "fullname = arcpy.ParseTableName(fc)\n",
    "namelist = fullname.split(\", \")\n",
    "databasename = namelist[0]\n",
    "ownername = namelist[1]\n",
    "fcname = namelist[2]\n",
    "print(databasename)\n",
    "print(ownername)\n",
    "print(fcname)"
   ]
  },
  {
   "cell_type": "markdown",
   "metadata": {},
   "source": [
    "## Working with Text Files\n",
    "\n",
    "* **General syntax**\n",
    "    - open(name, {mode}, {buffering})\n",
    "    - <https://docs.python.org/2/tutorial/inputoutput.html#reading-and-writing-files>\n",
    "* **Mode**\n",
    "    - r: read mode\n",
    "    - w: write mode\n",
    "    - +: read/write mode \n",
    "    - b: binary mode others\n",
    "    - a: append mode\n"
   ]
  },
  {
   "cell_type": "code",
   "execution_count": 22,
   "metadata": {},
   "outputs": [],
   "source": [
    "f = open(r\"C:\\Geog503\\data\\Results\\mytext.txt\",\"w\")\n",
    "f.write(\"Binghamton University\")\n",
    "f.close()"
   ]
  },
  {
   "cell_type": "markdown",
   "metadata": {},
   "source": [
    "###  Reading Text Files\n",
    "\n",
    "* **General syntax**\n",
    "    - open(name, \"r\", {buffering})"
   ]
  },
  {
   "cell_type": "code",
   "execution_count": 23,
   "metadata": {},
   "outputs": [
    {
     "name": "stdout",
     "output_type": "stream",
     "text": [
      "Binghamton\n",
      " \n",
      "University\n",
      "Binghamton University\n"
     ]
    }
   ],
   "source": [
    "f = open(r\"C:\\Geog503\\data\\Results\\mytext.txt\")\n",
    "print(f.read(10))\n",
    "print(f.read(1))\n",
    "print(f.read(10))\n",
    "f.seek(0)\n",
    "print(f.read())\n",
    "f.close()"
   ]
  },
  {
   "cell_type": "markdown",
   "metadata": {},
   "source": [
    "###  Writing Text Files\n",
    "\n",
    "* **General syntax**\n",
    "    - open(name, \"a\", {buffering})"
   ]
  },
  {
   "cell_type": "code",
   "execution_count": 24,
   "metadata": {},
   "outputs": [],
   "source": [
    "f = open(r\"C:\\Geog503\\data\\Results\\mytext.txt\",\"a\")\n",
    "f.write(\"\\nGeography Dept\")\n",
    "f.write(\"\\nGeog 503\")\n",
    "f.close()"
   ]
  },
  {
   "cell_type": "code",
   "execution_count": 25,
   "metadata": {},
   "outputs": [
    {
     "name": "stdout",
     "output_type": "stream",
     "text": [
      "Binghamton University\n",
      "Geography Dept\n",
      "Geog 503\n"
     ]
    }
   ],
   "source": [
    "f = open(r\"C:\\Geog503\\data\\Results\\mytext.txt\")\n",
    "print(f.read())\n",
    "f.close()"
   ]
  },
  {
   "cell_type": "markdown",
   "metadata": {},
   "source": [
    "###  Reading Text Files\n",
    "\n",
    "* **Three functions:**\n",
    "    - read()\n",
    "    - readline()\n",
    "    - readlines()"
   ]
  },
  {
   "cell_type": "code",
   "execution_count": 26,
   "metadata": {},
   "outputs": [
    {
     "name": "stdout",
     "output_type": "stream",
     "text": [
      "Binghamton University\n",
      "\n",
      "Geography Dept\n",
      "\n",
      "Geog 503\n"
     ]
    }
   ],
   "source": [
    "f = open(r\"C:\\Geog503\\data\\Results\\mytext.txt\")\n",
    "print(f.readline())\n",
    "print(f.readline())\n",
    "print(f.readline())\n",
    "f.close()"
   ]
  },
  {
   "cell_type": "code",
   "execution_count": 27,
   "metadata": {},
   "outputs": [
    {
     "name": "stdout",
     "output_type": "stream",
     "text": [
      "['Binghamton University\\n', 'Geography Dept\\n', 'Geog 503']\n"
     ]
    }
   ],
   "source": [
    "f = open(r\"C:\\Geog503\\data\\Results\\mytext.txt\")\n",
    "print(f.readlines())\n",
    "f.close()"
   ]
  },
  {
   "cell_type": "code",
   "execution_count": 28,
   "metadata": {},
   "outputs": [],
   "source": [
    "f = open(r\"C:\\Geog503\\data\\Results\\mytext.txt\")\n",
    "lines = f.readlines()\n",
    "f.close()\n",
    "lines[2] = \"GIS Programming\"\n",
    "f = open(r\"C:\\Geog503\\data\\Results\\newtext.txt\",\"w\")\n",
    "f.writelines(lines)\n",
    "f.close()"
   ]
  },
  {
   "cell_type": "code",
   "execution_count": 29,
   "metadata": {
    "scrolled": true
   },
   "outputs": [
    {
     "name": "stdout",
     "output_type": "stream",
     "text": [
      "Binghamton University\n",
      "Geography Dept\n",
      "GIS Programming\n"
     ]
    }
   ],
   "source": [
    "f = open(r\"C:\\Geog503\\data\\Results\\newtext.txt\")\n",
    "print(f.read())\n",
    "f.close()"
   ]
  },
  {
   "cell_type": "code",
   "execution_count": 30,
   "metadata": {},
   "outputs": [
    {
     "name": "stdout",
     "output_type": "stream",
     "text": [
      "Binghamton University\n",
      "\n",
      "Geography Dept\n",
      "\n",
      "Geog 503\n",
      "*********************\n",
      "Binghamton University\n",
      "\n",
      "Geography Dept\n",
      "\n",
      "Geog 503\n",
      "*********************\n",
      "Binghamton University\n",
      "\n",
      "Geography Dept\n",
      "\n",
      "Geog 503\n"
     ]
    }
   ],
   "source": [
    "f = open(r\"C:\\Geog503\\data\\Results\\mytext.txt\")\n",
    "for line in f:\n",
    "    print(line)\n",
    "print(\"*********************\")\n",
    "f.seek(0)\n",
    "while True:\n",
    "    line = f.readline()\n",
    "    if not line: break\n",
    "    print(line)\n",
    "print(\"*********************\")\n",
    "f.seek(0)\n",
    "for line in f.readlines():\n",
    "    print(line)\n",
    "f.close()"
   ]
  },
  {
   "cell_type": "markdown",
   "metadata": {},
   "source": [
    "### Replacing Text Contents"
   ]
  },
  {
   "cell_type": "code",
   "execution_count": 31,
   "metadata": {},
   "outputs": [],
   "source": [
    "in_file = open(r\"C:\\Geog503\\data\\Results\\mytext.txt\")\n",
    "out_file = open(r\"C:\\Geog503\\data\\Results\\newtext.txt\",\"w\")\n",
    "for line in in_file:\n",
    "    str = line.replace(\"Binghamton University\",\"State University of New York at Binghamton\")\n",
    "    out_file.write(str)\n",
    "in_file.close()\n",
    "out_file.close()"
   ]
  },
  {
   "cell_type": "code",
   "execution_count": 32,
   "metadata": {},
   "outputs": [
    {
     "name": "stdout",
     "output_type": "stream",
     "text": [
      "State University of New York at Binghamton\n",
      "Geography Dept\n",
      "Geog 503\n"
     ]
    }
   ],
   "source": [
    "f = open(r\"C:\\Geog503\\data\\Results\\newtext.txt\")\n",
    "print(f.read())\n",
    "f.close()"
   ]
  }
 ],
 "metadata": {
  "anaconda-cloud": {},
  "kernelspec": {
   "display_name": "arcgis",
   "language": "python",
   "name": "arcgis"
  },
  "language_info": {
   "codemirror_mode": {
    "name": "ipython",
    "version": 2
   },
   "file_extension": ".py",
   "mimetype": "text/x-python",
   "name": "python",
   "nbconvert_exporter": "python",
   "pygments_lexer": "ipython2",
   "version": "2.7.14"
  }
 },
 "nbformat": 4,
 "nbformat_minor": 1
}
