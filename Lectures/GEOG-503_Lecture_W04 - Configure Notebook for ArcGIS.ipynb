{
 "cells": [
  {
   "cell_type": "markdown",
   "metadata": {},
   "source": [
    "# How to configure Jupyter Notebook for ArcGIS?\n",
    "\n",
    "* Download Anaconda **32-bit** Python 3.6 version (https://www.anaconda.com/download/#windows)\n",
    "* Install Anaconda 32-bit to **C:\\Anaconda3**\n",
    "* Add Anaconda to Windows system PATH (Control Panel - System and Security - System - Advanced system settings - Advanced Tab - Environment Variables - System variables -  Double click Path variable - New - Add C:\\Anaconda3\\Scripts to Path variable) - OK\n",
    "* Open ArcGIS Python Windows (ArcMap -- Geoprocessing -- Python)\n",
    "* To find out the versions of Python and relevant packages ArcGIS is using, enter the following commands in the Python Window. Alternatively, you can go to this [webpage](https://support.esri.com/en/technical-article/000013224) to check the Python and numpy version for your ArcGIS Desktop. Record the version numbers for Python and numpy.\n",
    "* `import sys, numpy\n",
    "print(sys.version, numpy.__version__)`\n",
    "* Windows 10 Start Menu -- Anaconda3 (32-bit) -- Anaconda Prompt\n",
    "* conda create -n arcgis python=2.7.12 numpy=1.9.3  (Note: change the version numbers based on your ArcGIS version)\n",
    "* conda activate arcgis\n",
    "* conda install notebook ipykernel\n",
    "* pip install archook\n",
    "* ipython kernel install --user --name=\"arcgis\"\n",
    "* Windows 10 Start Menu -- Anaconda3 (32-bit) -- Jupyter Notebook (arcgis)\n",
    "* Run the following Python script to Jupyter Notebook and run the script to see if you get any errors.  "
   ]
  },
  {
   "cell_type": "code",
   "execution_count": 1,
   "metadata": {},
   "outputs": [],
   "source": [
    "try:\n",
    "    import archook #The module which locates arcgis\n",
    "    archook.get_arcpy()\n",
    "    import arcpy\n",
    "except ImportError:\n",
    "    print(\"import arcpy error\")"
   ]
  },
  {
   "cell_type": "code",
   "execution_count": 2,
   "metadata": {},
   "outputs": [
    {
     "name": "stdout",
     "output_type": "stream",
     "text": [
      "SourceDir     : C:\\Users\\Administrator\\Documents\\ArcGIS 10.6\\Desktop\\SetupFiles\\\n",
      "InstallDate   : 6/11/2018\n",
      "InstallDir    : c:\\program files (x86)\\arcgis\\desktop10.6\\\n",
      "ProductName   : Desktop\n",
      "BuildNumber   : 8321\n",
      "InstallType   : N/A\n",
      "Version       : 10.6\n",
      "SPNumber      : N/A\n",
      "Installer     : Administrator\n",
      "SPBuild       : N/A\n",
      "InstallTime   : 14:19:27\n"
     ]
    }
   ],
   "source": [
    "d = arcpy.GetInstallInfo()\n",
    "for key, value in list(d.items()):\n",
    "    # Print a formatted string of the install key and its value\n",
    "    #\n",
    "    print(\"{:<13} : {}\".format(key, value))"
   ]
  },
  {
   "cell_type": "code",
   "execution_count": 3,
   "metadata": {},
   "outputs": [
    {
     "name": "stdout",
     "output_type": "stream",
     "text": [
      "10.6\n"
     ]
    }
   ],
   "source": [
    "print(arcpy.GetInstallInfo()['Version'])"
   ]
  },
  {
   "cell_type": "code",
   "execution_count": null,
   "metadata": {},
   "outputs": [],
   "source": []
  }
 ],
 "metadata": {
  "kernelspec": {
   "display_name": "arcgis",
   "language": "python",
   "name": "arcgis"
  },
  "language_info": {
   "codemirror_mode": {
    "name": "ipython",
    "version": 2
   },
   "file_extension": ".py",
   "mimetype": "text/x-python",
   "name": "python",
   "nbconvert_exporter": "python",
   "pygments_lexer": "ipython2",
   "version": "2.7.14"
  }
 },
 "nbformat": 4,
 "nbformat_minor": 2
}
