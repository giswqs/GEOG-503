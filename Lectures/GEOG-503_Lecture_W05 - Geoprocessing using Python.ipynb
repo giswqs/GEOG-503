{
 "cells": [
  {
   "cell_type": "markdown",
   "metadata": {},
   "source": [
    "# Lecture W05 - Geoprocessing using Python"
   ]
  },
  {
   "cell_type": "markdown",
   "metadata": {},
   "source": [
    "## Data\n",
    "* http://spatial.binghamton.edu/geog503/data/lecture5_data.zip\n",
    "\n",
    "## What is ArcPy\n",
    "\n",
    "<http://desktop.arcgis.com/en/arcmap/latest/analyze/arcpy/what-is-arcpy-.htm>"
   ]
  },
  {
   "cell_type": "markdown",
   "metadata": {},
   "source": [
    "* ArcPy was introduced with ArcGIS 10.0\n",
    "* ArcPy is a collection of modules, classes and functions which give access to all the geoprocessing tools in ArcGIS from within Python\n",
    "* Most geoprocessing scripts will start with: **import arcpy** \n",
    "\n",
    "* Note: ArcPy replaces the older arcgisscripting module\n",
    "\n",
    "* ArcPy package can be found in  _**C:\\Python27\\ArcGIS10.x\\Lib\\site-packages**_\n",
    "\n"
   ]
  },
  {
   "cell_type": "code",
   "execution_count": 1,
   "metadata": {},
   "outputs": [],
   "source": [
    "try:\n",
    "    import archook #The module which locates arcgis\n",
    "    archook.get_arcpy()\n",
    "    import arcpy\n",
    "except ImportError:\n",
    "    print(\"import arcpy error\")"
   ]
  },
  {
   "cell_type": "markdown",
   "metadata": {
    "collapsed": true
   },
   "source": [
    "* [Alphabetical list of ArcPy functions](http://desktop.arcgis.com/en/arcmap/latest/analyze/arcpy-functions/alphabetical-list-of-arcpy-functions.htm)\n",
    "* [Alphabetical list of ArcPy classes](http://desktop.arcgis.com/en/arcmap/latest/analyze/arcpy-classes/alphabetical-list-of-arcpy-classes.htm)"
   ]
  },
  {
   "cell_type": "markdown",
   "metadata": {},
   "source": [
    "## Setting Current Workspace\n",
    "\n",
    "**After importing ArcPy, most scripts start with setting a workspace to retrieve and store files**"
   ]
  },
  {
   "cell_type": "code",
   "execution_count": 2,
   "metadata": {},
   "outputs": [],
   "source": [
    "import arcpy\n",
    "arcpy.env.workspace = r\"C:\\Geog503\\data\"\n",
    "arcpy.env.workspace = \"C:/Geog503/data\"\n",
    "arcpy.env.workspace = \"C:\\\\Geog503\\\\data\""
   ]
  },
  {
   "cell_type": "markdown",
   "metadata": {},
   "source": [
    "**In the code above env is a class and workspace is a property of this class**\n",
    "\n",
    "arcpy.< class>.< property>\n",
    "\n",
    "[ArcPy env properties](http://desktop.arcgis.com/en/arcmap/latest/analyze/arcpy-classes/env.htm)"
   ]
  },
  {
   "cell_type": "code",
   "execution_count": 3,
   "metadata": {},
   "outputs": [
    {
     "data": {
      "text/plain": [
       "[u'C:\\\\Geog503\\\\data\\\\Results', u'C:\\\\Geog503\\\\data\\\\toolbox']"
      ]
     },
     "execution_count": 3,
     "metadata": {},
     "output_type": "execute_result"
    }
   ],
   "source": [
    "arcpy.ListWorkspaces()"
   ]
  },
  {
   "cell_type": "code",
   "execution_count": 4,
   "metadata": {},
   "outputs": [
    {
     "data": {
      "text/plain": [
       "[u'bike_routes.shp',\n",
       " u'facilities.shp',\n",
       " u'hospitals.shp',\n",
       " u'parks.shp',\n",
       " u'zip.shp']"
      ]
     },
     "execution_count": 4,
     "metadata": {},
     "output_type": "execute_result"
    }
   ],
   "source": [
    "arcpy.ListFeatureClasses()"
   ]
  },
  {
   "cell_type": "markdown",
   "metadata": {},
   "source": [
    "## Import Modules\n",
    "\n",
    "**Import only a portion of a module**\n"
   ]
  },
  {
   "cell_type": "code",
   "execution_count": 5,
   "metadata": {},
   "outputs": [],
   "source": [
    "from arcpy import env\n",
    "env.workspace = r\"C:\\Geog503\\data\""
   ]
  },
  {
   "cell_type": "markdown",
   "metadata": {},
   "source": [
    "**Give a module a custom name**\n"
   ]
  },
  {
   "cell_type": "code",
   "execution_count": 6,
   "metadata": {},
   "outputs": [],
   "source": [
    "from arcpy import env as myenv\n",
    "myenv.workspace = r\"C:\\Geog503\\data\""
   ]
  },
  {
   "cell_type": "markdown",
   "metadata": {},
   "source": [
    "**Import a module directly into the namespace**\n"
   ]
  },
  {
   "cell_type": "code",
   "execution_count": 7,
   "metadata": {},
   "outputs": [],
   "source": [
    "workspace = r\"C:\\Geog503\\data\"\n",
    "from arcpy.sa import *"
   ]
  },
  {
   "cell_type": "markdown",
   "metadata": {},
   "source": [
    "## Using Tools\n",
    "\n",
    "ArcPy gives you access to all tools in ArcToolbox\n",
    "All tools are provided as functions\n",
    "\n",
    "arcpy.< toolname_toolboxalias>(< parameters>)\n",
    "\n",
    "arcpy.< toolboxalias>.< toolname>(< parameters>)\n"
   ]
  },
  {
   "cell_type": "code",
   "execution_count": 8,
   "metadata": {},
   "outputs": [
    {
     "data": {
      "text/plain": [
       "<Result 'C:\\\\Geog503\\\\data\\\\Results\\\\routes_clip.shp'>"
      ]
     },
     "execution_count": 8,
     "metadata": {},
     "output_type": "execute_result"
    }
   ],
   "source": [
    "import arcpy \n",
    "arcpy.env.workspace = r\"C:\\Geog503\\data\"\n",
    "arcpy.Clip_analysis(\"bike_routes.shp\",\"zip.shp\",\"Results/routes_clip.shp\")"
   ]
  },
  {
   "cell_type": "code",
   "execution_count": 9,
   "metadata": {
    "scrolled": true
   },
   "outputs": [
    {
     "data": {
      "text/plain": [
       "<Result 'C:\\\\Geog503\\\\data\\\\Results\\\\routes_clip.shp'>"
      ]
     },
     "execution_count": 9,
     "metadata": {},
     "output_type": "execute_result"
    }
   ],
   "source": [
    "arcpy.env.overwriteOutput = True\n",
    "arcpy.analysis.Clip(\"bike_routes.shp\",\"zip.shp\",\"Results/routes_clip.shp\")"
   ]
  },
  {
   "cell_type": "markdown",
   "metadata": {},
   "source": [
    "## Tool Parameters\n",
    "\n",
    "* A good understanding of tool parameters is essential\n",
    "* Parameters have properties:\n",
    "    - Name\n",
    "    - Type (feature class, integer, etc.)\n",
    "    - Direction (input or output)\n",
    "    - Required or optional\n",
    "* Required tool parameters are listed first\n",
    "* Optional tool parameters can be left out\n",
    "    - But what if some need to be set?\n",
    "* It can be accomplished in the following ways:\n",
    "    - By setting the optional parameters using an empty string ( \"\" ) or the number sign ( \"#\" )\n",
    "    - By specifying by name the parameter that needs to be set, bypassing all others\n"
   ]
  },
  {
   "cell_type": "code",
   "execution_count": 10,
   "metadata": {},
   "outputs": [
    {
     "data": {
      "text/plain": [
       "<Result 'C:\\\\Geog503\\\\data\\\\Results\\\\buffer.shp'>"
      ]
     },
     "execution_count": 10,
     "metadata": {},
     "output_type": "execute_result"
    }
   ],
   "source": [
    "arcpy.Buffer_analysis(\"hospitals.shp\",\"Results/buffer.shp\",\"1000 FEET\",\"\",\"\",\"ALL\",\"\")"
   ]
  },
  {
   "cell_type": "code",
   "execution_count": 11,
   "metadata": {
    "scrolled": true
   },
   "outputs": [
    {
     "data": {
      "text/plain": [
       "<Result 'C:\\\\Geog503\\\\data\\\\Results\\\\buffer2.shp'>"
      ]
     },
     "execution_count": 11,
     "metadata": {},
     "output_type": "execute_result"
    }
   ],
   "source": [
    "arcpy.Buffer_analysis(\"hospitals.shp\",\"Results/buffer2.shp\",\"1000 FEET\", dissolve_option=\"ALL\")"
   ]
  },
  {
   "cell_type": "markdown",
   "metadata": {},
   "source": [
    "## Hard‐coded Parameters"
   ]
  },
  {
   "cell_type": "code",
   "execution_count": 12,
   "metadata": {},
   "outputs": [
    {
     "data": {
      "text/plain": [
       "<Result 'C:\\\\Geog503\\\\data\\\\Results\\\\routes_clip.shp'>"
      ]
     },
     "execution_count": 12,
     "metadata": {},
     "output_type": "execute_result"
    }
   ],
   "source": [
    "import arcpy \n",
    "arcpy.env.workspace = r\"C:\\Geog503\\data\"\n",
    "arcpy.env.overwriteOutput = True\n",
    "arcpy.Clip_analysis(\"bike_routes.shp\",\"zip.shp\",\"Results/routes_clip.shp\")"
   ]
  },
  {
   "cell_type": "markdown",
   "metadata": {
    "collapsed": true
   },
   "source": [
    "## Using Variables for Parameters"
   ]
  },
  {
   "cell_type": "code",
   "execution_count": 13,
   "metadata": {},
   "outputs": [
    {
     "data": {
      "text/plain": [
       "<Result 'C:\\\\Geog503\\\\data\\\\Results\\\\routes_clip.shp'>"
      ]
     },
     "execution_count": 13,
     "metadata": {},
     "output_type": "execute_result"
    }
   ],
   "source": [
    "import arcpy\n",
    "arcpy.env.workspace = r\"C:\\Geog503\\data\"\n",
    "infc = \"bike_routes.shp\"\n",
    "clipfc = \"zip.shp\"\n",
    "outfc = \"Results/routes_clip.shp\"\n",
    "arcpy.Clip_analysis(infc, clipfc, outfc)"
   ]
  },
  {
   "cell_type": "markdown",
   "metadata": {},
   "source": [
    "## Variables Provided by a User"
   ]
  },
  {
   "cell_type": "code",
   "execution_count": 14,
   "metadata": {
    "scrolled": false
   },
   "outputs": [],
   "source": [
    "# import arcpy\n",
    "# infc = arcpy.GetParameterAsText(0)\n",
    "# outfc = arcpy.GetParameterAsText(1)\n",
    "# arcpy.Copy_management(infc, outfc)"
   ]
  },
  {
   "cell_type": "markdown",
   "metadata": {},
   "source": [
    "## Result Objects\n",
    "\n",
    "**ArcPy returns the output of a tool as a Result object**\n",
    "\n",
    "<http://desktop.arcgis.com/en/arcmap/latest/analyze/arcpy-classes/result.htm>"
   ]
  },
  {
   "cell_type": "code",
   "execution_count": 15,
   "metadata": {},
   "outputs": [
    {
     "name": "stdout",
     "output_type": "stream",
     "text": [
      "48\n"
     ]
    }
   ],
   "source": [
    "import arcpy\n",
    "arcpy.env.workspace = r\"C:\\Geog503\\data\"\n",
    "mycount = arcpy.GetCount_management(\"hospitals.shp\")\n",
    "print(mycount)"
   ]
  },
  {
   "cell_type": "code",
   "execution_count": 16,
   "metadata": {},
   "outputs": [
    {
     "name": "stdout",
     "output_type": "stream",
     "text": [
      "C:\\Geog503\\data\\Results\\routes_clip.shp\n"
     ]
    }
   ],
   "source": [
    "import arcpy\n",
    "arcpy.env.workspace = r\"C:\\Geog503\\data\"\n",
    "myresult = arcpy.analysis.Clip (\"bike_routes.shp\",\"zip.shp\",\"Results/routes_clip.shp\") \n",
    "print(myresult)"
   ]
  },
  {
   "cell_type": "markdown",
   "metadata": {},
   "source": [
    "## Multiple Operations using Result Objects\n",
    "\n",
    "**Result objects can be used as the input into another function**\n"
   ]
  },
  {
   "cell_type": "code",
   "execution_count": 17,
   "metadata": {},
   "outputs": [
    {
     "name": "stdout",
     "output_type": "stream",
     "text": [
      "1\n"
     ]
    }
   ],
   "source": [
    "import arcpy\n",
    "arcpy.env.workspace = r\"C:\\Geog503\\data\"\n",
    "arcpy.env.overwriteOutput = True\n",
    "buffer = arcpy.Buffer_analysis(\"hospitals.shp\",\"Results/buffer.shp\",\"1000 FEET\",\"\",\"\",\"ALL\",\"\")\n",
    "\n",
    "count = arcpy.GetCount_management(buffer)\n",
    "print(count)"
   ]
  },
  {
   "cell_type": "markdown",
   "metadata": {},
   "source": [
    "## Working with Licenses\n",
    "\n",
    "**CheckProduct function**\n"
   ]
  },
  {
   "cell_type": "code",
   "execution_count": 18,
   "metadata": {},
   "outputs": [
    {
     "name": "stdout",
     "output_type": "stream",
     "text": [
      "ArcInfo\n"
     ]
    }
   ],
   "source": [
    "import arcpy\n",
    "print(arcpy.ProductInfo())"
   ]
  },
  {
   "cell_type": "markdown",
   "metadata": {},
   "source": [
    "**CheckExtension function**"
   ]
  },
  {
   "cell_type": "code",
   "execution_count": 19,
   "metadata": {},
   "outputs": [
    {
     "name": "stdout",
     "output_type": "stream",
     "text": [
      "Slope image created!\n"
     ]
    }
   ],
   "source": [
    "import arcpy\n",
    "arcpy.env.workspace = r\"C:\\Geog503\\data\"\n",
    "arcpy.ListRasters()\n",
    "arcpy.env.overwriteOutput = True\n",
    "if arcpy.CheckExtension(\"3D\") == \"Available\":\n",
    "    arcpy.CheckOutExtension(\"3D\")\n",
    "    arcpy.Slope_3d(\"dem.tif\", \"slope.tif\", \"DEGREE\")\n",
    "    arcpy.CheckInExtension(\"3D\")\n",
    "    print(\"Slope image created!\")\n",
    "else:\n",
    "    print(\"3D Analyst license is unavailable.\")\n"
   ]
  },
  {
   "cell_type": "markdown",
   "metadata": {},
   "source": [
    "## Working with Toolboxes\n",
    "\n",
    "**Import a custom toolbox**"
   ]
  },
  {
   "cell_type": "code",
   "execution_count": 20,
   "metadata": {},
   "outputs": [
    {
     "data": {
      "text/plain": [
       "<module 'mytools' (built-in)>"
      ]
     },
     "execution_count": 20,
     "metadata": {},
     "output_type": "execute_result"
    }
   ],
   "source": [
    "import arcpy\n",
    "arcpy.ImportToolbox(r\"C:\\Geog503\\data\\toolbox\\NACT.tbx\")"
   ]
  },
  {
   "cell_type": "markdown",
   "metadata": {},
   "source": [
    "**Define a custom toolbox alias**"
   ]
  },
  {
   "cell_type": "code",
   "execution_count": 21,
   "metadata": {},
   "outputs": [
    {
     "data": {
      "text/plain": [
       "<module 'mytools' (built-in)>"
      ]
     },
     "execution_count": 21,
     "metadata": {},
     "output_type": "execute_result"
    }
   ],
   "source": [
    "import arcpy\n",
    "arcpy.env.workspace = r\"C:\\Geog503\\data\"\n",
    "arcpy.ImportToolbox(\"toolbox/NACT.tbx\",\"mytools\")"
   ]
  },
  {
   "cell_type": "markdown",
   "metadata": {},
   "source": [
    "**Access a tool in custom toolbox**"
   ]
  },
  {
   "cell_type": "code",
   "execution_count": 22,
   "metadata": {
    "scrolled": true
   },
   "outputs": [],
   "source": [
    "# arcpy.mytools.FeatureStatisticsToTable(Input_features, Input_zone_field, Input_value_raster)"
   ]
  },
  {
   "cell_type": "code",
   "execution_count": 23,
   "metadata": {},
   "outputs": [],
   "source": [
    "# arcpy.FeatureStatisticsToTable_mytools(Input_features, Input_zone_field, Input_value_raster)"
   ]
  },
  {
   "cell_type": "markdown",
   "metadata": {},
   "source": [
    "# Access Tool’s Syntax\n",
    "\n",
    "**Using the Usage function**\n"
   ]
  },
  {
   "cell_type": "code",
   "execution_count": 24,
   "metadata": {},
   "outputs": [
    {
     "name": "stdout",
     "output_type": "stream",
     "text": [
      "Buffer_analysis(in_features, out_feature_class, buffer_distance_or_field, {FULL | LEFT | RIGHT | OUTSIDE_ONLY}, {ROUND | FLAT}, {NONE | ALL | LIST}, {dissolve_field;dissolve_field...}, {PLANAR | GEODESIC})\n",
      "Clip_analysis(in_features, clip_features, out_feature_class, {cluster_tolerance})\n",
      "Erase_analysis(in_features, erase_features, out_feature_class, {cluster_tolerance})\n",
      "Identity_analysis(in_features, identity_features, out_feature_class, {ALL | NO_FID | ONLY_FID}, {cluster_tolerance}, {NO_RELATIONSHIPS | KEEP_RELATIONSHIPS})\n",
      "Intersect_analysis(Features {Ranks};Features {Ranks}..., out_feature_class, {ALL | NO_FID | ONLY_FID}, {cluster_tolerance}, {INPUT | LINE | POINT})\n",
      "SymDiff_analysis(in_features, update_features, out_feature_class, {ALL | NO_FID | ONLY_FID}, {cluster_tolerance})\n",
      "Update_analysis(in_features, update_features, out_feature_class, {BORDERS | NO_BORDERS}, {cluster_tolerance})\n",
      "Split_analysis(in_features, split_features, split_field, out_workspace, {cluster_tolerance})\n",
      "Near_analysis(in_features, near_features;near_features..., {search_radius}, {NO_LOCATION | LOCATION}, {NO_ANGLE | ANGLE}, {PLANAR | GEODESIC})\n",
      "PointDistance_analysis(in_features, near_features, out_table, {search_radius})\n",
      "Select_analysis(in_features, out_feature_class, {where_clause})\n",
      "TableSelect_analysis(in_table, out_table, {where_clause})\n",
      "Frequency_analysis(in_table, out_table, frequency_fields;frequency_fields..., {summary_fields;summary_fields...})\n",
      "Statistics_analysis(in_table, out_table, Field {Statistic Type};Field {Statistic Type}..., {case_field;case_field...})\n",
      "CreateThiessenPolygons_analysis(in_features, out_feature_class, {ONLY_FID | ALL})\n",
      "SpatialJoin_analysis(target_features, join_features, out_feature_class, {JOIN_ONE_TO_ONE | JOIN_ONE_TO_MANY}, {KEEP_ALL | KEEP_COMMON}, {field_mapping}, {INTERSECT | INTERSECT_3D | WITHIN_A_DISTANCE_GEODESIC | WITHIN_A_DISTANCE | WITHIN_A_DISTANCE_3D | CONTAINS | COMPLETELY_CONTAINS | CONTAINS_CLEMENTINI | WITHIN | COMPLETELY_WITHIN | WITHIN_CLEMENTINI | ARE_IDENTICAL_TO | BOUNDARY_TOUCHES | SHARE_A_LINE_SEGMENT_WITH | CROSSED_BY_THE_OUTLINE_OF | HAVE_THEIR_CENTER_IN | CLOSEST_GEODESIC | CLOSEST}, {search_radius}, {distance_field_name})\n",
      "MultipleRingBuffer_analysis(Input_Features, Output_Feature_class, Distances;Distances..., {Default | Centimeters | DecimalDegrees | Feet | Inches | Kilometers | Meters | Miles | Millimeters | NauticalMiles | Points | Yards | Decimeters}, {Field_Name}, {ALL | NONE}, {FULL | OUTSIDE_ONLY})\n",
      "GenerateNearTable_analysis(in_features, near_features;near_features..., out_table, {search_radius}, {NO_LOCATION | LOCATION}, {NO_ANGLE | ANGLE}, {CLOSEST | ALL}, {closest_count}, {PLANAR | GEODESIC})\n",
      "Union_analysis(Features {Ranks};Features {Ranks}..., out_feature_class, {ALL | NO_FID | ONLY_FID}, {cluster_tolerance}, {GAPS | NO_GAPS})\n",
      "TabulateIntersection_analysis(in_zone_features, zone_fields;zone_fields..., in_class_features, out_table, {class_fields;class_fields...}, {sum_fields;sum_fields...}, {xy_tolerance}, {UNKNOWN | INCHES | FEET | YARDS | MILES | NAUTICAL_MILES | MILLIMETERS | CENTIMETERS | DECIMETERS | METERS | KILOMETERS | DECIMAL_DEGREES | POINTS | ARES | ACRES | HECTARES | SQUARE_INCHES | SQUARE_FEET | SQUARE_YARDS | SQUARE_MILES | SQUARE_MILLIMETERS | SQUARE_CENTIMETERS | SQUARE_DECIMETERS | SQUARE_METERS | SQUARE_KILOMETERS})\n",
      "PolygonNeighbors_analysis(in_features, out_table, {in_fields;in_fields...}, {NO_AREA_OVERLAP | AREA_OVERLAP}, {BOTH_SIDES | NO_BOTH_SIDES}, {cluster_tolerance}, {UNKNOWN | INCHES | POINTS | FEET | YARDS | MILES | NAUTICAL_MILES | MILLIMETERS | CENTIMETERS | METERS | KILOMETERS | DECIMETERS | DECIMAL_DEGREES}, {UNKNOWN | SQUARE_INCHES | SQUARE_FEET | SQUARE_YARDS | ACRES | SQUARE_MILES | SQUARE_MILLIMETERS | SQUARE_DECIMETERS | SQUARE_CENTIMETERS | SQUARE_METERS | SQUARE_KILOMETERS | ARES | HECTARES})\n",
      "SplitByAttributes_analysis(Input_Table, Target_Workspace, Split_Fields;Split_Fields...)\n",
      "GraphicBuffer_analysis(in_features, out_feature_class, buffer_distance_or_field, {SQUARE | BUTT | ROUND}, {MITER | BEVEL | ROUND}, {miter_limit}, {max_deviation})\n"
     ]
    }
   ],
   "source": [
    "import arcpy\n",
    "tools = arcpy.ListTools(\"*_analysis\")\n",
    "for tool in tools:\n",
    "    print(arcpy.Usage(tool))"
   ]
  },
  {
   "cell_type": "markdown",
   "metadata": {},
   "source": [
    "**Using Python’s built-in help function**\n"
   ]
  },
  {
   "cell_type": "code",
   "execution_count": 25,
   "metadata": {},
   "outputs": [
    {
     "name": "stdout",
     "output_type": "stream",
     "text": [
      "Help on function Clip in module arcpy.analysis:\n",
      "\n",
      "Clip(in_features=None, clip_features=None, out_feature_class=None, cluster_tolerance=None)\n",
      "    Clip_analysis(in_features, clip_features, out_feature_class, {cluster_tolerance})\n",
      "    \n",
      "       Extracts input features that overlay the clip features.Use this tool\n",
      "       to cut out a piece of one feature class using one or\n",
      "       more of the features in another feature class as a cookie cutter. This\n",
      "       is particularly useful for creating a new feature class-also referred\n",
      "       to as study area or area of interest (AOI)-that contains a geographic\n",
      "       subset of the features in another, larger feature class.\n",
      "    \n",
      "    INPUTS:\n",
      "     in_features (Feature Layer):\n",
      "         The features to be clipped.\n",
      "     clip_features (Feature Layer):\n",
      "         The features used to clip the input features.\n",
      "     cluster_tolerance {Linear unit}:\n",
      "         The minimum distance separating all feature coordinates as well as the\n",
      "         distance a coordinate can move in X or Y (or both). Set the value to\n",
      "         be higher for data with less coordinate accuracy and lower for data\n",
      "         with extremely high accuracy.\n",
      "    \n",
      "    OUTPUTS:\n",
      "     out_feature_class (Feature Class):\n",
      "         The feature class to be created.\n",
      "\n",
      "None\n"
     ]
    }
   ],
   "source": [
    "print(help(arcpy.Clip_analysis))"
   ]
  },
  {
   "cell_type": "markdown",
   "metadata": {},
   "source": [
    "## ArcPy Functions\n",
    "\n",
    "* All geoprocessing tools are ArcPy functions\n",
    "* Additional ArcPy functions:\n",
    "    - listing data\n",
    "    - Retrieving and setting properties\n",
    "    - Many more…\n",
    "* General syntax\n",
    "    - arcpy.< functionname>(< arguments>)\n",
    "\n",
    "[Alphabetical list of ArcPy functions](http://desktop.arcgis.com/en/arcmap/latest/analyze/arcpy-functions/alphabetical-list-of-arcpy-functions.htm)"
   ]
  },
  {
   "cell_type": "code",
   "execution_count": 26,
   "metadata": {},
   "outputs": [
    {
     "name": "stdout",
     "output_type": "stream",
     "text": [
      "True\n"
     ]
    }
   ],
   "source": [
    "import arcpy\n",
    "print(arcpy.Exists(\"C:\\Geog503\\data\\zip.shp\"))"
   ]
  },
  {
   "cell_type": "markdown",
   "metadata": {},
   "source": [
    "## ArcPy Classes\n",
    "\n",
    "* Some tool parameters are complicated/detailed\n",
    "    - e.g. coordinate system\n",
    "* ArcPy classes are used to work with these parameters\n",
    "    - Classes are used to create objects\n",
    "    - Classes have properties and methods\n",
    "* General syntax\n",
    "    - arcpy.< classname>(< parameters>)\n",
    "\n",
    "[Alphabetical list of ArcPy classes](http://desktop.arcgis.com/en/arcmap/latest/analyze/arcpy-classes/alphabetical-list-of-arcpy-classes.htm)"
   ]
  },
  {
   "cell_type": "code",
   "execution_count": 27,
   "metadata": {},
   "outputs": [],
   "source": [
    "import arcpy\n",
    "arcpy.env.workspace = r\"C:\\Geog503\\data\""
   ]
  },
  {
   "cell_type": "markdown",
   "metadata": {},
   "source": [
    "## ArcPy Classes: Example\n",
    "\n",
    "**The following example creates a spatial reference object based on an existing .prj file ‐ properties of this object can then be used**"
   ]
  },
  {
   "cell_type": "code",
   "execution_count": 28,
   "metadata": {},
   "outputs": [
    {
     "name": "stdout",
     "output_type": "stream",
     "text": [
      "NAD_1983_StatePlane_Texas_Central_FIPS_4203_Feet\n"
     ]
    }
   ],
   "source": [
    "import arcpy\n",
    "prjfile = r\"C:\\Geog503\\data\\facilities.prj\"\n",
    "spatialref = arcpy.SpatialReference(prjfile) \n",
    "myref = spatialref.name\n",
    "print(myref)"
   ]
  },
  {
   "cell_type": "markdown",
   "metadata": {},
   "source": [
    "**The following example creates a spatial reference object and use this to define the coordinate system of a new feature class**\n"
   ]
  },
  {
   "cell_type": "code",
   "execution_count": 29,
   "metadata": {},
   "outputs": [
    {
     "data": {
      "text/plain": [
       "<Result 'C:\\\\Geog503\\\\data\\\\Results\\\\lines.shp'>"
      ]
     },
     "execution_count": 29,
     "metadata": {},
     "output_type": "execute_result"
    }
   ],
   "source": [
    "import arcpy\n",
    "out_path = r\"C:\\Geog503\\data\\Results\"\n",
    "out_name = \"lines.shp\"\n",
    "prjfile = r\"C:\\Geog503\\data\\facilities.prj\"\n",
    "spatialref = arcpy.SpatialReference(prjfile)\n",
    "arcpy.CreateFeatureclass_management(out_path, out_name, \"POLYLINE\", \"\",\"\", \"\", spatialref)"
   ]
  },
  {
   "cell_type": "markdown",
   "metadata": {},
   "source": [
    "## Environment Settings\n",
    "\n",
    "**Set current workspace**"
   ]
  },
  {
   "cell_type": "code",
   "execution_count": 30,
   "metadata": {},
   "outputs": [],
   "source": [
    "import arcpy\n",
    "arcpy.env.workspace = r\"C:\\Geog503\\data\"\n",
    "arcpy.env.cellSize = 30"
   ]
  },
  {
   "cell_type": "markdown",
   "metadata": {},
   "source": [
    "**Get a complete list of properties**"
   ]
  },
  {
   "cell_type": "code",
   "execution_count": 31,
   "metadata": {},
   "outputs": [
    {
     "name": "stdout",
     "output_type": "stream",
     "text": [
      "[u'newPrecision', u'autoCommit', u'XYResolution', u'processingServerUser', u'XYDomain', u'processingServerPassword', u'scratchWorkspace', u'cartographicPartitions', u'terrainMemoryUsage', u'MTolerance', u'compression', u'coincidentPoints', u'randomGenerator', u'outputCoordinateSystem', u'rasterStatistics', u'ZDomain', u'transferDomains', u'maintainAttachments', u'resamplingMethod', u'snapRaster', u'projectCompare', u'cartographicCoordinateSystem', u'configKeyword', u'outputZFlag', u'qualifiedFieldNames', u'tileSize', u'parallelProcessingFactor', u'pyramid', u'referenceScale', u'processingServer', u'extent', u'XYTolerance', u'tinSaveVersion', u'nodata', u'MDomain', u'spatialGrid1', u'cellSize', u'outputZValue', u'outputMFlag', u'geographicTransformations', u'spatialGrid2', u'ZResolution', u'mask', u'spatialGrid3', u'maintainSpatialIndex', u'workspace', u'MResolution', u'derivedPrecision', u'ZTolerance', u'scratchGDB', u'scratchFolder', u'packageWorkspace', u'addOutputsToMap']\n"
     ]
    }
   ],
   "source": [
    "import arcpy\n",
    "print arcpy.ListEnvironments()"
   ]
  },
  {
   "cell_type": "markdown",
   "metadata": {},
   "source": [
    "**Set _overwriteOutput_ property**"
   ]
  },
  {
   "cell_type": "code",
   "execution_count": 32,
   "metadata": {},
   "outputs": [],
   "source": [
    "import arcpy\n",
    "from arcpy import env\n",
    "env.overwriteOutput = True"
   ]
  }
 ],
 "metadata": {
  "anaconda-cloud": {},
  "kernelspec": {
   "display_name": "arcgis",
   "language": "python",
   "name": "arcgis"
  },
  "language_info": {
   "codemirror_mode": {
    "name": "ipython",
    "version": 2
   },
   "file_extension": ".py",
   "mimetype": "text/x-python",
   "name": "python",
   "nbconvert_exporter": "python",
   "pygments_lexer": "ipython2",
   "version": "2.7.14"
  }
 },
 "nbformat": 4,
 "nbformat_minor": 1
}
