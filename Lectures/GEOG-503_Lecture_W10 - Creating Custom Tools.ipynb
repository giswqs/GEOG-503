{
 "cells": [
  {
   "cell_type": "markdown",
   "metadata": {},
   "source": [
    "# Creating Custom Tools\n",
    "\n",
    "## Test Data\n",
    "* http://spatial.binghamton.edu/geog503/data/lecture10_data.zip"
   ]
  },
  {
   "cell_type": "markdown",
   "metadata": {},
   "source": [
    "## Example Script: Hardcoded Variables"
   ]
  },
  {
   "cell_type": "code",
   "execution_count": 1,
   "metadata": {},
   "outputs": [],
   "source": [
    "try:\n",
    "    import archook #The module which locates arcgis\n",
    "    archook.get_arcpy()\n",
    "    import arcpy\n",
    "except ImportError:\n",
    "    print(\"import arcpy error\")"
   ]
  },
  {
   "cell_type": "code",
   "execution_count": null,
   "metadata": {},
   "outputs": [],
   "source": [
    "import arcpy\n",
    "import os\n",
    "\n",
    "workspace = r\"C:\\Geog503\\data\"\n",
    "clip_fc = r\"C:\\Geog503\\data\\basin.shp\"\n",
    "output_dir = r\"C:\\Geog503\\Results\"\n",
    "\n",
    "arcpy.env.workspace = workspace\n",
    "arcpy.env.overwriteOutput = True\n",
    "fc_list = arcpy.ListFeatureClasses()\n",
    "\n",
    "desc = arcpy.Describe(clip_fc)\n",
    "if desc.path == workspace:\n",
    "    fc_list.remove(desc.file)\n",
    "\n",
    "for fc in fc_list:\n",
    "    out_fc = os.path.join(output_dir,fc)\n",
    "    arcpy.Clip_analysis(fc,clip_fc,out_fc)"
   ]
  },
  {
   "cell_type": "markdown",
   "metadata": {},
   "source": [
    "## Example Script: User Provided Variables"
   ]
  },
  {
   "cell_type": "code",
   "execution_count": null,
   "metadata": {},
   "outputs": [],
   "source": [
    "import arcpy\n",
    "import os\n",
    "\n",
    "workspace = arcpy.GetParameterAsText(0)\n",
    "clip_fc = arcpy.GetParameterAsText(1)\n",
    "output_dir = arcpy.GetParameterAsText(2)\n",
    "\n",
    "arcpy.env.workspace = workspace\n",
    "arcpy.env.overwriteOutput = True\n",
    "fc_list = arcpy.ListFeatureClasses()\n",
    "\n",
    "desc = arcpy.Describe(clip_fc)\n",
    "if desc.path == workspace:\n",
    "    fc_list.remove(desc.file)\n",
    "\n",
    "if arcpy.Exists(output_dir) == False:\n",
    "    arcpy.CreateFolder_management(os.path.split(output_dir)[0],os.path.split(output_dir)[1])\n",
    "\n",
    "for fc in fc_list:\n",
    "    out_fc = os.path.join(output_dir,fc)\n",
    "    arcpy.Clip_analysis(fc,clip_fc,out_fc)"
   ]
  }
 ],
 "metadata": {
  "kernelspec": {
   "display_name": "arcgis",
   "language": "python",
   "name": "arcgis"
  },
  "language_info": {
   "codemirror_mode": {
    "name": "ipython",
    "version": 3
   },
   "file_extension": ".py",
   "mimetype": "text/x-python",
   "name": "python",
   "nbconvert_exporter": "python",
   "pygments_lexer": "ipython3",
   "version": "3.6.6"
  }
 },
 "nbformat": 4,
 "nbformat_minor": 1
}
