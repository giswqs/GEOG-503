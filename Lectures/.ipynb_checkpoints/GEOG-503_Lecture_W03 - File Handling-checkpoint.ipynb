{
 "cells": [
  {
   "cell_type": "markdown",
   "metadata": {},
   "source": [
    "# Files and I/O\n",
    "\n",
    "## Manipulating Pathnames\n",
    "\n",
    "<http://www.diveintopython.net/file_handling/os_module.html>"
   ]
  },
  {
   "cell_type": "code",
   "execution_count": 1,
   "metadata": {},
   "outputs": [
    {
     "name": "stdout",
     "output_type": "stream",
     "text": [
      "C:/geog503/notebooks/data/stocks.csv\n",
      "C:\\geog503\\notebooks\\data\\stocks.csv\n",
      "C:\\geog503\\notebooks\\data\\stocks.csv\n"
     ]
    }
   ],
   "source": [
    "import os\n",
    "# three ways to use file path\n",
    "file_path = \"C:/geog503/notebooks/data/stocks.csv\"       # forward slash\n",
    "print(file_path)\n",
    "file_path = \"C:\\\\geog503\\\\notebooks\\\\data\\\\stocks.csv\"   # double back slashes\n",
    "print(file_path)\n",
    "file_path = r\"C:\\geog503\\notebooks\\data\\stocks.csv\"      # single back slash with 'r', raw\n",
    "print(file_path)"
   ]
  },
  {
   "cell_type": "code",
   "execution_count": 2,
   "metadata": {},
   "outputs": [
    {
     "name": "stdout",
     "output_type": "stream",
     "text": [
      "C:\\geog503\n",
      "otebooks\\data\\stocks.csv\n"
     ]
    }
   ],
   "source": [
    "file_path = \"C:\\geog503\\notebooks\\data\\stocks.csv\"   # unexpected result for single back slash without 'r'\n",
    "print(file_path)"
   ]
  },
  {
   "cell_type": "code",
   "execution_count": 3,
   "metadata": {},
   "outputs": [
    {
     "name": "stdout",
     "output_type": "stream",
     "text": [
      "/home/qiusheng/GEOG-503/Notebooks/Lectures\n"
     ]
    }
   ],
   "source": [
    "# Get the current working directory\n",
    "cwd = os.getcwd()\n",
    "print(cwd)"
   ]
  },
  {
   "cell_type": "code",
   "execution_count": 4,
   "metadata": {},
   "outputs": [
    {
     "name": "stdout",
     "output_type": "stream",
     "text": [
      "/home/qiusheng/GEOG-503/Notebooks/Lectures/data/stock.csv\n",
      "stock.csv\n"
     ]
    }
   ],
   "source": [
    "# Get the last component of the path\n",
    "file_path = cwd + \"/data/stock.csv\"\n",
    "print(file_path)\n",
    "basename = os.path.basename(file_path)\n",
    "print(basename)     "
   ]
  },
  {
   "cell_type": "code",
   "execution_count": 5,
   "metadata": {},
   "outputs": [
    {
     "name": "stdout",
     "output_type": "stream",
     "text": [
      "/home/qiusheng/GEOG-503/Notebooks/Lectures/data\n"
     ]
    }
   ],
   "source": [
    "# Get the directory name\n",
    "dirname = os.path.dirname(file_path)\n",
    "print(dirname)"
   ]
  },
  {
   "cell_type": "code",
   "execution_count": 6,
   "metadata": {},
   "outputs": [
    {
     "name": "stdout",
     "output_type": "stream",
     "text": [
      "stock\n",
      ".csv\n"
     ]
    }
   ],
   "source": [
    "# Split the file extension\n",
    "base = os.path.splitext(basename)[0]\n",
    "print(base)\n",
    "ext = os.path.splitext(basename)[1]\n",
    "print(ext)"
   ]
  },
  {
   "cell_type": "code",
   "execution_count": 7,
   "metadata": {},
   "outputs": [
    {
     "name": "stdout",
     "output_type": "stream",
     "text": [
      "/home/qiusheng/GEOG-503/Notebooks/Lectures\n"
     ]
    }
   ],
   "source": [
    "# Get current working directory\n",
    "wd = os.getcwd()\n",
    "print(wd)"
   ]
  },
  {
   "cell_type": "code",
   "execution_count": 8,
   "metadata": {},
   "outputs": [
    {
     "name": "stdout",
     "output_type": "stream",
     "text": [
      "/home/qiusheng/GEOG-503/Notebooks/Lectures/data/stocks.csv\n"
     ]
    }
   ],
   "source": [
    "# Join path components together\n",
    "file_path = os.path.join(wd,\"data/stocks.csv\")\n",
    "print(file_path)"
   ]
  },
  {
   "cell_type": "code",
   "execution_count": 9,
   "metadata": {},
   "outputs": [
    {
     "name": "stdout",
     "output_type": "stream",
     "text": [
      "['.ipynb_checkpoints', 'data', 'GEOG-503_Lecture_W02 - Intro Python Notebook.html', 'GEOG-503_Lecture_W02 - Intro Python Notebook.ipynb', 'GEOG-503_Lecture_W03 - File Handling.ipynb', '.directory', 'archive']\n"
     ]
    }
   ],
   "source": [
    "# List all files in a directory\n",
    "files = os.listdir(wd)\n",
    "print(files)"
   ]
  },
  {
   "cell_type": "code",
   "execution_count": 10,
   "metadata": {},
   "outputs": [
    {
     "name": "stdout",
     "output_type": "stream",
     "text": [
      "GEOG-503_Lecture_W02 - Intro Python Notebook.ipynb\n",
      "GEOG-503_Lecture_W03 - File Handling.ipynb\n"
     ]
    }
   ],
   "source": [
    "# List files with a certain file extension\n",
    "files = os.listdir(wd)\n",
    "for file in files:\n",
    "    if os.path.splitext(file)[1] == '.ipynb':\n",
    "        print(file)"
   ]
  },
  {
   "cell_type": "code",
   "execution_count": 11,
   "metadata": {},
   "outputs": [
    {
     "data": {
      "text/plain": [
       "['GEOG-503_Lecture_W02 - Intro Python Notebook.ipynb',\n",
       " 'GEOG-503_Lecture_W03 - File Handling.ipynb']"
      ]
     },
     "execution_count": 11,
     "metadata": {},
     "output_type": "execute_result"
    }
   ],
   "source": [
    "# List dirtories with glob\n",
    "import glob\n",
    "glob.glob(\"*.ipynb\")"
   ]
  },
  {
   "cell_type": "code",
   "execution_count": 12,
   "metadata": {},
   "outputs": [
    {
     "data": {
      "text/plain": [
       "['GEOG-503_Lecture_W03 - File Handling.ipynb']"
      ]
     },
     "execution_count": 12,
     "metadata": {},
     "output_type": "execute_result"
    }
   ],
   "source": [
    "# List dirtories with glob\n",
    "import glob\n",
    "glob.glob(\"*W03*.ipynb\")"
   ]
  },
  {
   "cell_type": "markdown",
   "metadata": {},
   "source": [
    "## File Handling: Create, Open, Append, Read, Write\n",
    "\n",
    "<https://www.guru99.com/reading-and-writing-files-in-python.html>"
   ]
  },
  {
   "cell_type": "markdown",
   "metadata": {},
   "source": [
    "### How to Create a Text File\n",
    "With Python you can create a .txt file (textfile.txt) by using the code, we will demonstrate here how you can do this"
   ]
  },
  {
   "cell_type": "code",
   "execution_count": 13,
   "metadata": {},
   "outputs": [],
   "source": [
    "# Step 1\n",
    "f= open(\"data/textfile.txt\",\"w+\")"
   ]
  },
  {
   "cell_type": "markdown",
   "metadata": {},
   "source": [
    "* We declared the variable f to open a file named textfile.txt. Open takes 2 arguments, the file that we want to open and a string that represents the kinds of permission or operation we want to do on the file\n",
    "\n",
    "* Here we used \"w\" letter in our argument, which indicates write and the plus sign that means it will create a file if it does not exist in library\n",
    "\n",
    "* The available option beside \"w\" are \"r\" for read and \"a\" for append and plus sign means if it is not there then create it"
   ]
  },
  {
   "cell_type": "code",
   "execution_count": 14,
   "metadata": {},
   "outputs": [],
   "source": [
    "# Step 2:\n",
    "for i in range(10):\n",
    "    f.write(\"This is line {}\\n\".format(i+1))"
   ]
  },
  {
   "cell_type": "markdown",
   "metadata": {},
   "source": [
    "* We have a for loop that runs over a range of 10 numbers.\n",
    "* Using the write function to enter data into the file.\n",
    "* The output we want to iterate in the file is \"this is line number\", which we declare with write function and then percent d (displays integer)\n",
    "* So basically we are putting in the line number that we are writing, then putting it in a carriage return and a new line character"
   ]
  },
  {
   "cell_type": "code",
   "execution_count": 15,
   "metadata": {},
   "outputs": [],
   "source": [
    "# Step 3:\n",
    "f.close() "
   ]
  },
  {
   "cell_type": "markdown",
   "metadata": {},
   "source": [
    "This will close the instance of the file textfile.txt stored"
   ]
  },
  {
   "cell_type": "markdown",
   "metadata": {},
   "source": [
    "### How to Append Data to a File\n",
    "\n",
    "You can also append a new text to the already existing file or the new file."
   ]
  },
  {
   "cell_type": "code",
   "execution_count": 16,
   "metadata": {},
   "outputs": [],
   "source": [
    "# Step 1:\n",
    "f=open(\"data/textfile.txt\", \"a+\")"
   ]
  },
  {
   "cell_type": "markdown",
   "metadata": {},
   "source": [
    "Once again if you could see a plus sign in the code, it indicates that it will create a new file if it does not exist. But in our case we already have the file, so we are not required to create a new file."
   ]
  },
  {
   "cell_type": "code",
   "execution_count": 17,
   "metadata": {},
   "outputs": [],
   "source": [
    "# Step 2:\n",
    "for i in range(10, 15):\n",
    "     f.write(\"This is line {}\\n\".format(i+1))"
   ]
  },
  {
   "cell_type": "markdown",
   "metadata": {},
   "source": [
    "This will write data into the file in append mode."
   ]
  },
  {
   "cell_type": "code",
   "execution_count": 18,
   "metadata": {},
   "outputs": [],
   "source": [
    "# Step 3:\n",
    "f.close()"
   ]
  },
  {
   "cell_type": "markdown",
   "metadata": {},
   "source": [
    "### How to Read a File\n",
    "\n",
    "Not only you can create .txt file from Python but you can also call .txt file in a \"read mode\"(r)."
   ]
  },
  {
   "cell_type": "code",
   "execution_count": 19,
   "metadata": {},
   "outputs": [],
   "source": [
    "# Step 1: Open the file in Read mode\n",
    "f=open(\"data/textfile.txt\", \"r\")"
   ]
  },
  {
   "cell_type": "code",
   "execution_count": 20,
   "metadata": {},
   "outputs": [],
   "source": [
    "# Step 2: Use f.read to read file data and store it in variable content\n",
    "contents =f.read()"
   ]
  },
  {
   "cell_type": "code",
   "execution_count": 21,
   "metadata": {},
   "outputs": [
    {
     "name": "stdout",
     "output_type": "stream",
     "text": [
      "This is line 1\n",
      "This is line 2\n",
      "This is line 3\n",
      "This is line 4\n",
      "This is line 5\n",
      "This is line 6\n",
      "This is line 7\n",
      "This is line 8\n",
      "This is line 9\n",
      "This is line 10\n",
      "This is line 11\n",
      "This is line 12\n",
      "This is line 13\n",
      "This is line 14\n",
      "This is line 15\n",
      "\n"
     ]
    }
   ],
   "source": [
    "# Step 3: Print contents\n",
    "print(contents)"
   ]
  },
  {
   "cell_type": "code",
   "execution_count": 22,
   "metadata": {},
   "outputs": [],
   "source": [
    "# Step 4: Close the file\n",
    "f.close()"
   ]
  },
  {
   "cell_type": "markdown",
   "metadata": {},
   "source": [
    "### How to Read a File line by line\n",
    "You can also read your .txt file line by line if your data is too big to read. This code will segregate your data in easy to ready mode"
   ]
  },
  {
   "cell_type": "code",
   "execution_count": 23,
   "metadata": {},
   "outputs": [
    {
     "name": "stdout",
     "output_type": "stream",
     "text": [
      "Line content: This is line 1\n",
      "\n",
      "Line content: This is line 2\n",
      "\n",
      "Line content: This is line 3\n",
      "\n",
      "Line content: This is line 4\n",
      "\n",
      "Line content: This is line 5\n",
      "\n",
      "Line content: This is line 6\n",
      "\n",
      "Line content: This is line 7\n",
      "\n",
      "Line content: This is line 8\n",
      "\n",
      "Line content: This is line 9\n",
      "\n",
      "Line content: This is line 10\n",
      "\n",
      "Line content: This is line 11\n",
      "\n",
      "Line content: This is line 12\n",
      "\n",
      "Line content: This is line 13\n",
      "\n",
      "Line content: This is line 14\n",
      "\n",
      "Line content: This is line 15\n",
      "\n"
     ]
    }
   ],
   "source": [
    "f=open(\"data/textfile.txt\", \"r\")\n",
    "\n",
    "lines = f.readlines()\n",
    "\n",
    "for line in lines:\n",
    "    print(\"Line content: {}\".format(line))\n",
    "    \n",
    "f.close()"
   ]
  },
  {
   "cell_type": "markdown",
   "metadata": {},
   "source": [
    "## Reading and Writing CSV Data\n",
    "\n",
    "<https://docs.python.org/3/library/csv.html>"
   ]
  },
  {
   "cell_type": "code",
   "execution_count": 24,
   "metadata": {},
   "outputs": [
    {
     "name": "stdout",
     "output_type": "stream",
     "text": [
      "/home/qiusheng/GEOG-503/Notebooks/Lectures/data/stocks.csv\n",
      "['Symbol', 'Price', 'Date', 'Time', 'Change', 'Volume']\n",
      "['AA', '39.48', '6/11/2007', '9:36am', '-0.18', '181800']\n",
      "['AIG', '71.38', '6/11/2007', '9:36am', '-0.15', '195500']\n",
      "['AXP', '62.58', '6/11/2007', '9:36am', '-0.46', '935000']\n",
      "['BA', '98.31', '6/11/2007', '9:36am', '+0.12', '104800']\n",
      "['C', '53.08', '6/11/2007', '9:36am', '-0.25', '360900']\n",
      "['CAT', '78.29', '6/11/2007', '9:36am', '-0.23', '225400']\n"
     ]
    }
   ],
   "source": [
    "# Read CSV file\n",
    "import csv\n",
    "file_path = os.path.join(wd,\"data/stocks.csv\")\n",
    "print(file_path)\n",
    "with open(file_path) as f:\n",
    "    f_csv = csv.reader(f)\n",
    "    for row in f_csv:\n",
    "        print(row)  # use row[i] to get values"
   ]
  },
  {
   "cell_type": "code",
   "execution_count": 25,
   "metadata": {},
   "outputs": [],
   "source": [
    "# Write csv file\n",
    "import csv\n",
    "file_path = os.path.join(wd,\"data/newfile.csv\")\n",
    "with open(file_path, 'w', newline='') as csvfile:\n",
    "    spamwriter = csv.writer(csvfile, delimiter=',')\n",
    "    spamwriter.writerow(['Spam'] * 5 + ['Baked Beans'])\n",
    "    spamwriter.writerow(['Spam', 'Lovely Spam', 'Wonderful Spam'])"
   ]
  },
  {
   "cell_type": "code",
   "execution_count": 26,
   "metadata": {},
   "outputs": [],
   "source": [
    "import csv\n",
    "file_path = os.path.join(wd,\"data/names.csv\")\n",
    "with open(file_path, 'w', newline='') as csvfile:\n",
    "    fieldnames = ['first_name', 'last_name']\n",
    "    writer = csv.DictWriter(csvfile, fieldnames=fieldnames)\n",
    "\n",
    "    writer.writeheader()\n",
    "    writer.writerow({'first_name': 'Baked', 'last_name': 'Beans'})\n",
    "    writer.writerow({'first_name': 'Lovely', 'last_name': 'Spam'})\n",
    "    writer.writerow({'first_name': 'Wonderful', 'last_name': 'Spam'})"
   ]
  },
  {
   "cell_type": "markdown",
   "metadata": {},
   "source": [
    "## Handling Exceptions\n",
    "\n",
    "<https://docs.python.org/3/tutorial/errors.html#handling-exceptions>"
   ]
  },
  {
   "cell_type": "code",
   "execution_count": 27,
   "metadata": {},
   "outputs": [
    {
     "name": "stdout",
     "output_type": "stream",
     "text": [
      "Please enter a number: 34\n",
      "Your input is a valid number!\n",
      "Please enter a number: 78\n",
      "Your input is a valid number!\n",
      "Please enter a number: hello\n",
      "Oops!  That was no valid number.  Try again...\n"
     ]
    }
   ],
   "source": [
    "while True:\n",
    "    try:\n",
    "        x = int(input(\"Please enter a number: \"))\n",
    "        print(\"Your input is a valid number!\")\n",
    "        continue\n",
    "    except ValueError:\n",
    "        print(\"Oops!  That was no valid number.  Try again...\")\n",
    "        break"
   ]
  }
 ],
 "metadata": {
  "anaconda-cloud": {},
  "kernelspec": {
   "display_name": "Python 3",
   "language": "python",
   "name": "python3"
  },
  "language_info": {
   "codemirror_mode": {
    "name": "ipython",
    "version": 3
   },
   "file_extension": ".py",
   "mimetype": "text/x-python",
   "name": "python",
   "nbconvert_exporter": "python",
   "pygments_lexer": "ipython3",
   "version": "3.6.5"
  }
 },
 "nbformat": 4,
 "nbformat_minor": 1
}
