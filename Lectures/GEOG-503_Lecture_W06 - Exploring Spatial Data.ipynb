{
 "cells": [
  {
   "cell_type": "markdown",
   "metadata": {
    "collapsed": true
   },
   "source": [
    "# Lecture W06 - Exploring Spatial Data"
   ]
  },
  {
   "cell_type": "markdown",
   "metadata": {},
   "source": [
    "## Test Data\n",
    "* http://spatial.binghamton.edu/geog503/data/lecture6_data.zip"
   ]
  },
  {
   "cell_type": "markdown",
   "metadata": {},
   "source": [
    "## Checking for the Existence of Data\n",
    "\n",
    "* **Two types of paths**\n",
    "    - System paths\n",
    "    - Catalog paths\n",
    "* **General syntax**\n",
    "    - os.path.exists(<dataset>)\n",
    "    - arcpy.Exists(<dataset>)\n"
   ]
  },
  {
   "cell_type": "code",
   "execution_count": 1,
   "metadata": {},
   "outputs": [],
   "source": [
    "try:\n",
    "    import archook #The module which locates arcgis\n",
    "    archook.get_arcpy()\n",
    "    import arcpy\n",
    "except ImportError:\n",
    "    print(\"import arcpy error\")"
   ]
  },
  {
   "cell_type": "code",
   "execution_count": 2,
   "metadata": {},
   "outputs": [
    {
     "data": {
      "text/plain": [
       "True"
      ]
     },
     "execution_count": 2,
     "metadata": {},
     "output_type": "execute_result"
    }
   ],
   "source": [
    "import os\n",
    "os.path.exists(r\"C:\\Geog503\\data\\cities.shp\")"
   ]
  },
  {
   "cell_type": "code",
   "execution_count": 3,
   "metadata": {},
   "outputs": [
    {
     "data": {
      "text/plain": [
       "True"
      ]
     },
     "execution_count": 3,
     "metadata": {},
     "output_type": "execute_result"
    }
   ],
   "source": [
    "import arcpy\n",
    "arcpy.Exists(r\"C:\\Geog503\\data\\cities.shp\")"
   ]
  },
  {
   "cell_type": "code",
   "execution_count": 4,
   "metadata": {},
   "outputs": [
    {
     "data": {
      "text/plain": [
       "False"
      ]
     },
     "execution_count": 4,
     "metadata": {},
     "output_type": "execute_result"
    }
   ],
   "source": [
    "import os\n",
    "os.path.exists(r\"C:\\Geog503\\data\\testdata.gdb\\buffers_poly\")"
   ]
  },
  {
   "cell_type": "code",
   "execution_count": 5,
   "metadata": {},
   "outputs": [
    {
     "data": {
      "text/plain": [
       "True"
      ]
     },
     "execution_count": 5,
     "metadata": {},
     "output_type": "execute_result"
    }
   ],
   "source": [
    "import arcpy\n",
    "arcpy.Exists(r\"C:\\Geog503\\data\\testdata.gdb\\buffers_poly\")"
   ]
  },
  {
   "cell_type": "markdown",
   "metadata": {},
   "source": [
    "## Describing Data\n",
    "\n",
    "* **The Describe function is used to determine properties of dataset**\n",
    "* **General syntax**\n",
    "    - import arcpy\n",
    "    - < variable> = arcpy.Describe(< input dataset>)\n",
    "* **Online help**\n",
    "    - <http://desktop.arcgis.com/en/arcmap/latest/analyze/arcpy-functions/describe.htm>\n"
   ]
  },
  {
   "cell_type": "code",
   "execution_count": 6,
   "metadata": {},
   "outputs": [
    {
     "name": "stdout",
     "output_type": "stream",
     "text": [
      "ShapeFile\n",
      "Point\n"
     ]
    }
   ],
   "source": [
    "import arcpy\n",
    "desc = arcpy.Describe(r\"C:\\Geog503\\data\\cities.shp\")\n",
    "print(desc.datatype)\n",
    "print(desc.shapeType)"
   ]
  },
  {
   "cell_type": "code",
   "execution_count": 7,
   "metadata": {},
   "outputs": [
    {
     "name": "stdout",
     "output_type": "stream",
     "text": [
      "Clip analysis run successfully.\n"
     ]
    }
   ],
   "source": [
    "import arcpy\n",
    "arcpy.env.workspace = r\"C:\\Geog503\\data\"\n",
    "arcpy.env.overwriteOutput = True\n",
    "infc = \"railroads.shp\"\n",
    "clipfc = \"new_mexico.shp\"\n",
    "# clipfc = \"cities.shp\"\n",
    "outfc = \"Results/railroads_clip.shp\"\n",
    "desc = arcpy.Describe(clipfc)\n",
    "type = desc.shapeType\n",
    "if type == \"Polygon\":\n",
    "    arcpy.Clip_analysis(infc, clipfc, outfc)\n",
    "    print(\"Clip analysis run successfully.\")\n",
    "else:\n",
    "    print(\"The clip features are not polygons.\")"
   ]
  },
  {
   "cell_type": "markdown",
   "metadata": {},
   "source": [
    "## Display shapefiles in Jupyter Notebook\n",
    "\n",
    "* use geopandas\n",
    "* https://www.linkedin.com/pulse/using-geopandas-display-shapefiles-jupyter-notebooks-andrew-cutts\n",
    "* http://geopandas.org/mapping.html"
   ]
  },
  {
   "cell_type": "markdown",
   "metadata": {},
   "source": [
    "### How to install the geopandas package\n",
    "Open Anaconda Prompt and enter the following commands\n",
    "* `activate arcgis`\n",
    "* `conda install -y geopandas`"
   ]
  },
  {
   "cell_type": "code",
   "execution_count": 8,
   "metadata": {},
   "outputs": [],
   "source": [
    "import geopandas as gpd"
   ]
  },
  {
   "cell_type": "code",
   "execution_count": 9,
   "metadata": {},
   "outputs": [],
   "source": [
    "import os\n",
    "workspace = r\"C:\\geog503\\data\"\n",
    "os.chdir(workspace)"
   ]
  },
  {
   "cell_type": "code",
   "execution_count": 10,
   "metadata": {},
   "outputs": [],
   "source": [
    "railroads = gpd.read_file('railroads.shp')\n",
    "new_mexico = gpd.read_file('new_mexico.shp')\n",
    "railroads_clip = gpd.read_file('Results/railroads_clip.shp')"
   ]
  },
  {
   "cell_type": "code",
   "execution_count": 11,
   "metadata": {},
   "outputs": [
    {
     "name": "stdout",
     "output_type": "stream",
     "text": [
      "    FNODE_  TNODE_    LENGTH  RAILRDL020  \\\n",
      "0     4270    4362  0.638979        5433   \n",
      "1     4364    4362  0.394658        5435   \n",
      "2     4442    4443  0.186551        5532   \n",
      "3     4444    4443  0.928203        5533   \n",
      "4     4445    4264  0.730855        5534   \n",
      "5     4443    4482  0.262239        5583   \n",
      "6     4482    4445  1.289620        5594   \n",
      "7     4493    4494  0.689676        5598   \n",
      "8     4364    4520  1.010250        5631   \n",
      "9     4520    4530  0.246030        5642   \n",
      "10    4362    4565  1.290530        5687   \n",
      "11    4445    4565  0.614816        5688   \n",
      "12    4482    4582  0.419335        5707   \n",
      "13    4585    4565  0.084762        5711   \n",
      "14    4585    4588  0.477493        5717   \n",
      "15    4746    4747  0.557005        5898   \n",
      "16    4836    4837  0.520972        5990   \n",
      "17    4836    4851  0.321430        6008   \n",
      "18    4878    4877  0.337298        6036   \n",
      "19    4924    4925  0.259129        6089   \n",
      "20    5047    5044  0.651989        6252   \n",
      "21    4837    5078  1.274030        6290   \n",
      "22    5083    5078  0.243064        6297   \n",
      "23    5096    4925  1.256210        6310   \n",
      "24    5127    5096  0.225848        6346   \n",
      "25    4878    5127  2.377110        6351   \n",
      "26    5096    5169  0.255389        6404   \n",
      "27    5127    5169  0.155865        6405   \n",
      "28    5194    5193  0.011120        6438   \n",
      "29    5047    5195  0.976217        6439   \n",
      "..     ...     ...       ...         ...   \n",
      "56    5662    5768  2.699890        7187   \n",
      "57    5768    5783  0.625920        7205   \n",
      "58    5738    5800  1.394340        7225   \n",
      "59    5800    5783  1.984000        7243   \n",
      "60    5783    5823  0.501205        7251   \n",
      "61    5800    5947  1.869700        7413   \n",
      "62    4520    4516  1.688370        8179   \n",
      "63    4582    6285  0.810181        8186   \n",
      "64    4747    4585  0.755322        8193   \n",
      "65    6288    4520  0.756037        8199   \n",
      "66    4516    6288  1.709650        8201   \n",
      "67    4836    4497  2.782870        8202   \n",
      "68    6288    4836  0.580148        8216   \n",
      "69    4878    5047  0.801767        8235   \n",
      "70    4837    5193  3.243590        8238   \n",
      "71    5247    5128  1.271660        8260   \n",
      "72    5247    5457  1.433580        8261   \n",
      "73    6298    5650  1.076390        8290   \n",
      "74    5660    5650  0.827964        8296   \n",
      "75    5737    5551  1.098360        8301   \n",
      "76    5678    6299  0.680425        8304   \n",
      "77    6300    5768  1.582790        8307   \n",
      "78    5641    5737  1.391290        8309   \n",
      "79    4565    6340  0.836076        8386   \n",
      "80    6340    4837  1.984080        8387   \n",
      "81    5738    6354  2.143720        8409   \n",
      "82    6354    5194  1.301850        8410   \n",
      "83    4747    6439  0.992296        8538   \n",
      "84    6439    4925  1.265480        8539   \n",
      "85    6448    5660  1.210460        8552   \n",
      "\n",
      "                                             RROWNER1  \\\n",
      "0    Burlington Northern and Santa Fe Railway Company   \n",
      "1    Burlington Northern and Santa Fe Railway Company   \n",
      "2                   San Luis Central Railroad Company   \n",
      "3                      Union Pacific Railroad Company   \n",
      "4                      Union Pacific Railroad Company   \n",
      "5                      Union Pacific Railroad Company   \n",
      "6                      Union Pacific Railroad Company   \n",
      "7         Durango and Silverton Narrow Gauge Railroad   \n",
      "8    Burlington Northern and Santa Fe Railway Company   \n",
      "9                        Cimarron Valley Railroad, LC   \n",
      "10   Burlington Northern and Santa Fe Railway Company   \n",
      "11   Burlington Northern and Santa Fe Railway Company   \n",
      "12                     Union Pacific Railroad Company   \n",
      "13   Burlington Northern and Santa Fe Railway Company   \n",
      "14               Colorado and Wyoming Railway Company   \n",
      "15   Burlington Northern and Santa Fe Railway Company   \n",
      "16                     Union Pacific Railroad Company   \n",
      "17   Burlington Northern and Santa Fe Railway Company   \n",
      "18   Burlington Northern and Santa Fe Railway Company   \n",
      "19            Santa Fe Southern Railway, Incorporated   \n",
      "20   Burlington Northern and Santa Fe Railway Company   \n",
      "21   Burlington Northern and Santa Fe Railway Company   \n",
      "22   Burlington Northern and Santa Fe Railway Company   \n",
      "23   Burlington Northern and Santa Fe Railway Company   \n",
      "24   Burlington Northern and Santa Fe Railway Company   \n",
      "25   Burlington Northern and Santa Fe Railway Company   \n",
      "26   Burlington Northern and Santa Fe Railway Company   \n",
      "27   Burlington Northern and Santa Fe Railway Company   \n",
      "28                     Union Pacific Railroad Company   \n",
      "29   Burlington Northern and Santa Fe Railway Company   \n",
      "..                                                ...   \n",
      "56                     Union Pacific Railroad Company   \n",
      "57                     Union Pacific Railroad Company   \n",
      "58                     Union Pacific Railroad Company   \n",
      "59                     Union Pacific Railroad Company   \n",
      "60              Pecos Valley Southern Railway Company   \n",
      "61                     Union Pacific Railroad Company   \n",
      "62                       Cimarron Valley Railroad, LC   \n",
      "63                 Cumbres and Toltec Scenic Railroad   \n",
      "64   Burlington Northern and Santa Fe Railway Company   \n",
      "65   Burlington Northern and Santa Fe Railway Company   \n",
      "66                       Cimarron Valley Railroad, LC   \n",
      "67                     Union Pacific Railroad Company   \n",
      "68   Burlington Northern and Santa Fe Railway Company   \n",
      "69   Burlington Northern and Santa Fe Railway Company   \n",
      "70                     Union Pacific Railroad Company   \n",
      "71   Burlington Northern and Santa Fe Railway Company   \n",
      "72   Burlington Northern and Santa Fe Railway Company   \n",
      "73                     Union Pacific Railroad Company   \n",
      "74                     Union Pacific Railroad Company   \n",
      "75   Burlington Northern and Santa Fe Railway Company   \n",
      "76   Burlington Northern and Santa Fe Railway Company   \n",
      "77  Texas and New Mexico Division, Austin and Nort...   \n",
      "78                     Union Pacific Railroad Company   \n",
      "79   Burlington Northern and Santa Fe Railway Company   \n",
      "80   Burlington Northern and Santa Fe Railway Company   \n",
      "81                     Union Pacific Railroad Company   \n",
      "82                     Union Pacific Railroad Company   \n",
      "83   Burlington Northern and Santa Fe Railway Company   \n",
      "84   Burlington Northern and Santa Fe Railway Company   \n",
      "85                    Arizona Eastern Railway Company   \n",
      "\n",
      "                                            RROWNER2 RROWNER3 MARK1 MARK2  \\\n",
      "0                                               None     None  BNSF  None   \n",
      "1                                               None     None  BNSF  None   \n",
      "2                                               None     None   SLC  None   \n",
      "3                                               None     None    UP  None   \n",
      "4   Burlington Northern and Santa Fe Railway Company     None    UP  BNSF   \n",
      "5                                               None     None    UP  None   \n",
      "6                                               None     None    UP  None   \n",
      "7                                               None     None  DSNG  None   \n",
      "8                                               None     None  BNSF  None   \n",
      "9                                               None     None   CVR  None   \n",
      "10                                              None     None  BNSF  None   \n",
      "11                                              None     None  BNSF  None   \n",
      "12                                              None     None    UP  None   \n",
      "13                                              None     None  BNSF  None   \n",
      "14                                              None     None    CW  None   \n",
      "15                                              None     None  BNSF  None   \n",
      "16                                              None     None    UP  None   \n",
      "17                                              None     None  BNSF  None   \n",
      "18                                              None     None  BNSF  None   \n",
      "19                                              None     None   SFS  None   \n",
      "20                                              None     None  BNSF  None   \n",
      "21                                              None     None  BNSF  None   \n",
      "22                                              None     None  BNSF  None   \n",
      "23                                              None     None  BNSF  None   \n",
      "24                                              None     None  BNSF  None   \n",
      "25                                              None     None  BNSF  None   \n",
      "26                                              None     None  BNSF  None   \n",
      "27                                              None     None  BNSF  None   \n",
      "28  Burlington Northern and Santa Fe Railway Company     None    UP  BNSF   \n",
      "29                                              None     None  BNSF  None   \n",
      "..                                               ...      ...   ...   ...   \n",
      "56                                              None     None    UP  None   \n",
      "57                                              None     None    UP  None   \n",
      "58                                              None     None    UP  None   \n",
      "59                                              None     None    UP  None   \n",
      "60                                              None     None   PVS  None   \n",
      "61                                              None     None    UP  None   \n",
      "62                                              None     None   CVR  None   \n",
      "63                                              None     None  CATS  None   \n",
      "64                                              None     None  BNSF  None   \n",
      "65                                              None     None  BNSF  None   \n",
      "66                                              None     None   CVR  None   \n",
      "67                                              None     None    UP  None   \n",
      "68                                              None     None  BNSF  None   \n",
      "69                                              None     None  BNSF  None   \n",
      "70                                              None     None    UP  None   \n",
      "71                                              None     None  BNSF  None   \n",
      "72                                              None     None  BNSF  None   \n",
      "73                                              None     None    UP  None   \n",
      "74                                              None     None    UP  None   \n",
      "75                                              None     None  BNSF  None   \n",
      "76                                              None     None  BNSF  None   \n",
      "77                                              None     None  TNMR  None   \n",
      "78                                              None     None    UP  None   \n",
      "79                                              None     None  BNSF  None   \n",
      "80                                              None     None  BNSF  None   \n",
      "81                                              None     None    UP  None   \n",
      "82                                              None     None    UP  None   \n",
      "83                                              None     None  BNSF  None   \n",
      "84                                              None     None  BNSF  None   \n",
      "85                                              None     None  AZER  None   \n",
      "\n",
      "   MARK3                                           geometry  \n",
      "0   None  LINESTRING (-104.1533355712891 38.193000793457...  \n",
      "1   None  LINESTRING (-103.1769943237305 38.062557220458...  \n",
      "2   None  LINESTRING (-106.1023712158203 37.749225616455...  \n",
      "3   None  LINESTRING (-106.9275817871094 37.855464935302...  \n",
      "4   None  LINESTRING (-104.7829284667969 37.624393463134...  \n",
      "5   None  LINESTRING (-106.1114349365234 37.566551208496...  \n",
      "6   None  LINESTRING (-105.8693771362305 37.466598510742...  \n",
      "7   None  LINESTRING (-107.6645431518555 37.805477142333...  \n",
      "8   None  LINESTRING (-103.1769943237305 38.062557220458...  \n",
      "9   None  LINESTRING (-102.6082305908203 37.397422790527...  \n",
      "10  None  LINESTRING (-103.5560989379883 37.988185882568...  \n",
      "11  None  LINESTRING (-104.7829284667969 37.624393463134...  \n",
      "12  None  LINESTRING (-105.8693771362305 37.466598510742...  \n",
      "13  None  LINESTRING (-104.5309753417969 37.134914398193...  \n",
      "14  None  LINESTRING (-104.5309753417969 37.134914398193...  \n",
      "15  None  LINESTRING (-104.9142913818359 36.856517791748...  \n",
      "16  None  LINESTRING (-102.074951171875 36.3316383361816...  \n",
      "17  None  LINESTRING (-102.074951171875 36.3316383361816...  \n",
      "18  None  LINESTRING (-108.8888931274414 35.496025085449...  \n",
      "19  None  LINESTRING (-105.9521026611328 35.678798675537...  \n",
      "20  None  LINESTRING (-109.565673828125 35.1109504699707...  \n",
      "21  None  LINESTRING (-102.5227661132813 36.065441131591...  \n",
      "22  None  LINESTRING (-102.0812301635742 35.192161560058...  \n",
      "23  None  LINESTRING (-106.6983032226563 34.906898498535...  \n",
      "24  None  LINESTRING (-106.8582992553711 34.773078918457...  \n",
      "25  None  LINESTRING (-108.8888931274414 35.496025085449...  \n",
      "26  None  LINESTRING (-106.6983032226563 34.906898498535...  \n",
      "27  None  LINESTRING (-106.8582992553711 34.773078918457...  \n",
      "28  None  LINESTRING (-105.2361221313477 34.603271484375...  \n",
      "29  None  LINESTRING (-109.565673828125 35.1109504699707...  \n",
      "..   ...                                                ...  \n",
      "56  None  LINESTRING (-100.4113845825195 32.466911315917...  \n",
      "57  None  LINESTRING (-102.910758972168 31.5900535583496...  \n",
      "58  None  LINESTRING (-106.4727096557617 31.770175933837...  \n",
      "59  None  LINESTRING (-105.3521957397461 31.174036026000...  \n",
      "60  None  LINESTRING (-103.5135269165039 31.421689987182...  \n",
      "61  None  LINESTRING (-105.3521957397461 31.174036026000...  \n",
      "62  None  LINESTRING (-102.6082305908203 37.397422790527...  \n",
      "63  None  LINESTRING (-106.0070190429688 37.075191497802...  \n",
      "64  None  LINESTRING (-104.5600128173828 36.472808837890...  \n",
      "65  None  LINESTRING (-102.4927597045898 36.724948883056...  \n",
      "66  None  LINESTRING (-100.9923629760742 37.438980102539...  \n",
      "67  None  LINESTRING (-102.074951171875 36.3316383361816...  \n",
      "68  None  LINESTRING (-102.4927597045898 36.724948883056...  \n",
      "69  None  LINESTRING (-108.8888931274414 35.496025085449...  \n",
      "70  None  LINESTRING (-102.5227661132813 36.065441131591...  \n",
      "71  None  LINESTRING (-103.0431137084961 34.388816833496...  \n",
      "72  None  LINESTRING (-103.0431137084961 34.388816833496...  \n",
      "73  None  LINESTRING (-109.2954940795898 33.051437377929...  \n",
      "74  None  LINESTRING (-109.4915924072266 32.329883575439...  \n",
      "75  None  LINESTRING (-106.5251998901367 31.787900924682...  \n",
      "76  None  LINESTRING (-104.1022796630859 32.295642852783...  \n",
      "77  None  LINESTRING (-103.3442535400391 32.943443298339...  \n",
      "78  None  LINESTRING (-107.7502670288086 32.272689819335...  \n",
      "79  None  LINESTRING (-104.4910888671875 37.188163757324...  \n",
      "80  None  LINESTRING (-103.8682632446289 36.997474670410...  \n",
      "81  None  LINESTRING (-106.4727096557617 31.770175933837...  \n",
      "82  None  LINESTRING (-105.8653869628906 33.647319793701...  \n",
      "83  None  LINESTRING (-104.5600128173828 36.472808837890...  \n",
      "84  None  LINESTRING (-105.045051574707 35.7318611145019...  \n",
      "85  None  LINESTRING (-110.185302734375 33.1803131103515...  \n",
      "\n",
      "[86 rows x 11 columns]\n"
     ]
    }
   ],
   "source": [
    "print(railroads)"
   ]
  },
  {
   "cell_type": "code",
   "execution_count": 12,
   "metadata": {},
   "outputs": [
    {
     "name": "stdout",
     "output_type": "stream",
     "text": [
      "     AREA  PERIMETER  STATESP020       STATE STATE_FIPS  ORDER_ADM MONTH_ADM  \\\n",
      "0  30.888     23.674        1905  New Mexico         35         47   January   \n",
      "\n",
      "   DAY_ADM  YEAR_ADM                                           geometry  \n",
      "0        6      1912  POLYGON ((-109.0448837280273 36.99863052368164...  \n"
     ]
    }
   ],
   "source": [
    "print(new_mexico)"
   ]
  },
  {
   "cell_type": "code",
   "execution_count": 14,
   "metadata": {},
   "outputs": [
    {
     "data": {
      "text/plain": [
       "<matplotlib.axes._subplots.AxesSubplot at 0x1477d570>"
      ]
     },
     "execution_count": 14,
     "metadata": {},
     "output_type": "execute_result"
    },
    {
     "data": {
      "image/png": "[encoded data removed]",
      "text/plain": [
       "<Figure size 432x288 with 1 Axes>"
      ]
     },
     "metadata": {
      "needs_background": "light"
     },
     "output_type": "display_data"
    }
   ],
   "source": [
    "# magic command to display plots within Jupyter Notebook\n",
    "%matplotlib inline  \n",
    "railroads.plot()"
   ]
  },
  {
   "cell_type": "code",
   "execution_count": 15,
   "metadata": {
    "scrolled": true
   },
   "outputs": [
    {
     "data": {
      "text/plain": [
       "<matplotlib.axes._subplots.AxesSubplot at 0x148e6410>"
      ]
     },
     "execution_count": 15,
     "metadata": {},
     "output_type": "execute_result"
    },
    {
     "data": {
      "image/png": "[encoded data removed]",
      "text/plain": [
       "<Figure size 432x288 with 1 Axes>"
      ]
     },
     "metadata": {
      "needs_background": "light"
     },
     "output_type": "display_data"
    }
   ],
   "source": [
    "new_mexico.plot()"
   ]
  },
  {
   "cell_type": "code",
   "execution_count": 16,
   "metadata": {},
   "outputs": [
    {
     "data": {
      "text/plain": [
       "<matplotlib.axes._subplots.AxesSubplot at 0x1483ddd0>"
      ]
     },
     "execution_count": 16,
     "metadata": {},
     "output_type": "execute_result"
    },
    {
     "data": {
      "image/png": "[encoded data removed]",
      "text/plain": [
       "<Figure size 432x288 with 1 Axes>"
      ]
     },
     "metadata": {
      "needs_background": "light"
     },
     "output_type": "display_data"
    }
   ],
   "source": [
    "railroads_clip.plot()"
   ]
  },
  {
   "cell_type": "code",
   "execution_count": 17,
   "metadata": {},
   "outputs": [
    {
     "data": {
      "text/plain": [
       "<matplotlib.axes._subplots.AxesSubplot at 0x14a07f50>"
      ]
     },
     "execution_count": 17,
     "metadata": {},
     "output_type": "execute_result"
    },
    {
     "data": {
      "image/png": "[encoded data removed]",
      "text/plain": [
       "<Figure size 432x288 with 1 Axes>"
      ]
     },
     "metadata": {
      "needs_background": "light"
     },
     "output_type": "display_data"
    }
   ],
   "source": [
    "base = new_mexico.plot(color='white', edgecolor='black')\n",
    "railroads_clip.plot(ax=base)"
   ]
  },
  {
   "cell_type": "markdown",
   "metadata": {},
   "source": [
    "## The Describe function\n",
    "\n",
    "* Describe function will always return a **Describe object**\n",
    "* The Describe function returns a set of **generic properties** for all Describe objects.\n",
    "\n",
    "<img style=\"float: left;\" src=\"http://spatial.binghamton.edu/geog503/images/describe_function.png\" width = 400>"
   ]
  },
  {
   "cell_type": "markdown",
   "metadata": {
    "collapsed": true
   },
   "source": [
    "* **Generic Describe Object Properties**\n",
    "\n",
    "<img style=\"float: left;\" src=\"http://spatial.binghamton.edu/geog503/images/generic_describe_props.png\" width = 400>"
   ]
  },
  {
   "cell_type": "code",
   "execution_count": 18,
   "metadata": {},
   "outputs": [
    {
     "name": "stdout",
     "output_type": "stream",
     "text": [
      "baseName:    cities\n",
      "catalogPath: C:\\Geog503\\data\\cities.shp\n",
      "file:        cities.shp\n",
      "name:        cities.shp\n",
      "path:        C:\\Geog503\\data\n",
      "dataType:    ShapeFile\n",
      "extension:   shp\n"
     ]
    }
   ],
   "source": [
    "import arcpy\n",
    "data = r\"C:\\Geog503\\data\\cities.shp\"\n",
    "desc = arcpy.Describe(data)\n",
    "print(\"baseName:    {}\".format(desc.baseName))\n",
    "print(\"catalogPath: {}\".format(desc.catalogPath))\n",
    "print(\"file:        {}\".format(desc.file))\n",
    "print(\"name:        {}\".format(desc.name))\n",
    "print(\"path:        {}\".format(desc.path))\n",
    "print(\"dataType:    {}\".format(desc.dataType))\n",
    "print(\"extension:   {}\".format(desc.extension))"
   ]
  },
  {
   "cell_type": "markdown",
   "metadata": {},
   "source": [
    "## Feature class Describe properties\n",
    "\n",
    "<img style = \"float: left;\" src=\"http://spatial.binghamton.edu/geog503/images/fc_desc_props.png\" width = 500>"
   ]
  },
  {
   "cell_type": "markdown",
   "metadata": {},
   "source": [
    "### Feature Class properties\n",
    "\n",
    "* <http://desktop.arcgis.com/en/arcmap/latest/analyze/arcpy-functions/featureclass-properties.htm>\n",
    "\n",
    "<img style = \"float: left;\" src=\"http://spatial.binghamton.edu/geog503/images/fc_props.png\" width = 500>"
   ]
  },
  {
   "cell_type": "code",
   "execution_count": 19,
   "metadata": {},
   "outputs": [
    {
     "name": "stdout",
     "output_type": "stream",
     "text": [
      "Feature Type:  Simple\n",
      "Shape Type :   Point\n",
      "Spatial Index: True\n"
     ]
    }
   ],
   "source": [
    "import arcpy\n",
    "\n",
    "# Create a Describe object from the feature class\n",
    "desc = arcpy.Describe(r\"C:\\Geog503\\data\\cities.shp\")\n",
    "\n",
    "# Print some feature class properties\n",
    "print(\"Feature Type:  {}\".format(desc.featureType))\n",
    "print(\"Shape Type :   {}\".format(desc.shapeType))\n",
    "print(\"Spatial Index: {}\".format(desc.hasSpatialIndex))"
   ]
  },
  {
   "cell_type": "markdown",
   "metadata": {},
   "source": [
    "### Table properties\n",
    "\n",
    "* <http://desktop.arcgis.com/en/arcmap/latest/analyze/arcpy-functions/table-properties.htm>\n",
    "\n",
    "<img style=\"float: left;\" src=\"http://spatial.binghamton.edu/geog503/images/table_props.png\" width = 500>"
   ]
  },
  {
   "cell_type": "code",
   "execution_count": 20,
   "metadata": {},
   "outputs": [
    {
     "name": "stdout",
     "output_type": "stream",
     "text": [
      "OIDFieldName: FID\n",
      "FID                    : OID\n",
      "Shape                  : Geometry\n",
      "CITIESX020             : Double\n",
      "FEATURE                : String\n",
      "NAME                   : String\n",
      "POP_RANGE              : String\n",
      "POP_2000               : Integer\n",
      "FIPS55                 : String\n",
      "COUNTY                 : String\n",
      "FIPS                   : String\n",
      "STATE                  : String\n",
      "STATE_FIPS             : String\n",
      "DISPLAY                : SmallInteger\n"
     ]
    }
   ],
   "source": [
    "import arcpy\n",
    "# Create a Describe object from the table.\n",
    "desc = arcpy.Describe(r\"C:\\Geog503\\data\\cities.shp\")\n",
    "# If the table has an OID, print the OID field name\n",
    "if desc.hasOID:\n",
    "    print(\"OIDFieldName: {}\".format(desc.OIDFieldName))\n",
    "# Print the names and types of all the fields in the table\n",
    "for field in desc.fields:\n",
    "    print(\"{:22} : {}\".format(field.name,field.type))"
   ]
  },
  {
   "cell_type": "markdown",
   "metadata": {},
   "source": [
    "### Dataset properties\n",
    "\n",
    "* <http://desktop.arcgis.com/en/arcmap/latest/analyze/arcpy-functions/dataset-properties.htm>\n",
    "\n",
    "<img style=\"float: left;\" src=\"images/dataset_props.png\" width = 500>"
   ]
  },
  {
   "cell_type": "code",
   "execution_count": 21,
   "metadata": {},
   "outputs": [
    {
     "name": "stdout",
     "output_type": "stream",
     "text": [
      "Dataset Type: FeatureClass\n",
      "Extent:\n",
      "  XMin: -109.050102234, XMax: -103.000656128, YMin: 31.3318996429, YMax: 36.9994239807\n",
      "Spatial reference name: GCS_North_American_1983:\n"
     ]
    }
   ],
   "source": [
    "import arcpy\n",
    "desc = arcpy.Describe(r\"C:\\Geog503\\data\\new_mexico.shp\")\n",
    "print(\"Dataset Type: {0}\".format(desc.datasetType))\n",
    "print(\"Extent:\\n  XMin: {0}, XMax: {1}, YMin: {2}, YMax: {3}\".format(\n",
    "    desc.extent.XMin, desc.extent.XMax, desc.extent.YMin, desc.extent.YMax))\n",
    "print(\"Spatial reference name: {0}:\".format(desc.spatialReference.name))"
   ]
  },
  {
   "cell_type": "markdown",
   "metadata": {},
   "source": [
    "### Raster Describe properties\n",
    "\n",
    "<img style=\"float: left;\" src=\"http://spatial.binghamton.edu/geog503/images/raster_desc.png\" width = 500>"
   ]
  },
  {
   "cell_type": "markdown",
   "metadata": {},
   "source": [
    "### Raster Dataset properties\n",
    "\n",
    "* <http://desktop.arcgis.com/en/arcmap/latest/analyze/arcpy-functions/raster-dataset-properties.htm>\n",
    "\n",
    "<img style=\"float: left;\" src=\"http://spatial.binghamton.edu/geog503/images/raster_dataset_props.png\" width = 500>"
   ]
  },
  {
   "cell_type": "code",
   "execution_count": 22,
   "metadata": {},
   "outputs": [
    {
     "name": "stdout",
     "output_type": "stream",
     "text": [
      "bandCount:           1\n",
      "compressionType:     NONE\n",
      "format:              FGDBR\n"
     ]
    }
   ],
   "source": [
    "import arcpy\n",
    "desc = arcpy.Describe(r\"C:\\Geog503\\data\\testdata.gdb\\ElevationFloat\")\n",
    "print(\"{:20} {}\".format(\"bandCount:\",desc.bandCount))\n",
    "print(\"{:20} {}\".format(\"compressionType:\",desc.compressionType))\n",
    "print(\"{:20} {}\".format(\"format:\",desc.format))"
   ]
  },
  {
   "cell_type": "markdown",
   "metadata": {},
   "source": [
    "### Raster Band properties\n",
    "\n",
    "* <http://desktop.arcgis.com/en/arcmap/latest/analyze/arcpy-functions/raster-band-properties.htm>\n",
    "\n",
    "<img style=\"float: left;\" src=\"http://spatial.binghamton.edu/geog503/images/raster_band_props.png\" width = 500>"
   ]
  },
  {
   "cell_type": "code",
   "execution_count": 23,
   "metadata": {},
   "outputs": [
    {
     "name": "stdout",
     "output_type": "stream",
     "text": [
      "height:         207\n",
      "width:          233\n",
      "pixelType:      F32\n",
      "isInteger:      False\n"
     ]
    }
   ],
   "source": [
    "import arcpy\n",
    "desc = arcpy.Describe(r\"C:\\Geog503\\data\\testdata.gdb\\ElevationFloat\")\n",
    "print(\"{:15} {}\".format(\"height: \", desc.height))\n",
    "print(\"{:15} {}\".format(\"width:\", desc.width))\n",
    "print(\"{:15} {}\".format(\"pixelType:\", desc.pixelType))\n",
    "print(\"{:15} {}\".format(\"isInteger:\", desc.isInteger))"
   ]
  },
  {
   "cell_type": "markdown",
   "metadata": {},
   "source": [
    "## Describing Data: Example"
   ]
  },
  {
   "cell_type": "code",
   "execution_count": 24,
   "metadata": {
    "scrolled": true
   },
   "outputs": [
    {
     "name": "stdout",
     "output_type": "stream",
     "text": [
      "Data type:      FeatureClass\n",
      "File path:      C:\\Geog503\\data\\testdata.gdb\n",
      "Catalog path:   C:\\Geog503\\data\\testdata.gdb\\buffers_poly\n",
      "File name:      buffers_poly\n",
      "Base name:      buffers_poly\n",
      "Name:           buffers_poly\n"
     ]
    }
   ],
   "source": [
    "import arcpy\n",
    "arcpy.env.workspace = r\"C:\\Geog503\\data\\testdata.gdb\"\n",
    "element = \"buffers_poly\"\n",
    "desc = arcpy.Describe(element)\n",
    "print(\"{:15} {}\".format(\"Data type: \", desc.dataType))\n",
    "print(\"{:15} {}\".format(\"File path: \", desc.path))\n",
    "print(\"{:15} {}\".format(\"Catalog path: \", desc.catalogPath))\n",
    "print(\"{:15} {}\".format(\"File name: \", desc.file))\n",
    "print(\"{:15} {}\".format(\"Base name: \",desc.baseName))\n",
    "print(\"{:15} {}\".format(\"Name: \", desc.name))"
   ]
  },
  {
   "cell_type": "markdown",
   "metadata": {},
   "source": [
    "## Describing a feature class and raster\n",
    "\n",
    "You can use the Describe object **dataType** property to determine what is being described. Some of the values returned by the **dataType** property include:\n",
    "\n",
    "* FeatureLayer\n",
    "* FeatureClass\n",
    "* File\n",
    "* Folder\n",
    "* LasDataset\n",
    "* Layer\n",
    "* MosaicDataset\n",
    "* NetworkDataset\n",
    "* RasterBand\n",
    "* RasterDataset\n",
    "* ShapeFile\n",
    "* Table\n",
    "* TextFile\n",
    "* Toolbox\n",
    "\n",
    "The complete list of dataType can be found at:\n",
    "<http://desktop.arcgis.com/en/arcmap/latest/analyze/arcpy-functions/arcinfo-item-properties.htm>\n",
    "\n",
    "The **hasattr()** function returns a Boolean value. An example of using the function with the Describe object is shown below."
   ]
  },
  {
   "cell_type": "code",
   "execution_count": 26,
   "metadata": {
    "scrolled": true
   },
   "outputs": [
    {
     "name": "stdout",
     "output_type": "stream",
     "text": [
      "Name: ElevationFloat\n",
      "Raster bands: 1\n"
     ]
    }
   ],
   "source": [
    "import arcpy\n",
    "arcpy.env.workspace = r\"C:\\Geog503\\data\\testdata.gdb\"\n",
    "element = \"ElevationFloat\"\n",
    "# element = \"buffers_poly\"\n",
    "desc = arcpy.Describe(element)\n",
    "if hasattr(desc, \"name\"):\n",
    "    print(\"Name: {}\".format(desc.name))\n",
    "if hasattr(desc, \"bandCount\"):\n",
    "    print(\"Raster bands: {}\".format(str(desc.bandCount)))\n",
    "if hasattr(desc, \"shapeType\"):\n",
    "    print(\"Shape type: {}\".format(desc.shapeType))"
   ]
  },
  {
   "cell_type": "code",
   "execution_count": 27,
   "metadata": {},
   "outputs": [
    {
     "data": {
      "image/png": "[encoded data removed]",
      "text/plain": [
       "<Figure size 432x288 with 1 Axes>"
      ]
     },
     "metadata": {
      "needs_background": "light"
     },
     "output_type": "display_data"
    }
   ],
   "source": [
    "import arcpy\n",
    "import matplotlib.pyplot as plt\n",
    "arcpy.env.workspace = r\"C:\\Geog503\\data\\testdata.gdb\"\n",
    "image = arcpy.RasterToNumPyArray(\"ElevationInt\")\n",
    "plt.imshow(image)\n",
    "plt.show()"
   ]
  },
  {
   "cell_type": "markdown",
   "metadata": {},
   "source": [
    "## List Data\n",
    "\n",
    "* **Listing data is very common**\n",
    "* **Several different list functions in ArcPy**\n",
    "    - ListFields\n",
    "    - ListIndexes\n",
    "    - ListDataset\n",
    "    - ListFeatureClasses\n",
    "    - ListFiles\n",
    "    - ListRasters\n",
    "    - ListTables\n",
    "    - ListWorkspaces\n",
    "    - ListVersions\n",
    "    \n",
    "* **Similar logic:**\n",
    "    - Create a list\n",
    "    - Iterate over the list using a for loop\n",
    "    \n",
    "The complete list data functions can be found at <>http://desktop.arcgis.com/en/arcmap/latest/analyze/arcpy-functions/listdatasets.htm\n"
   ]
  },
  {
   "cell_type": "markdown",
   "metadata": {},
   "source": [
    "### Listing Feature Classes\n",
    "\n",
    "* **The ListFeatureClasses function returns a list of feature classes in the current workspace**\n",
    "* **General syntax:**\n",
    "    - ListFeatureClasses ({wild_card}, {feature_type}, {feature_dataset})\n",
    "    \n",
    "* **No filtering:**\n",
    "    - fclist = arcpy.ListFeatureClasses()\n",
    "* **Filtering based on wild card**\n",
    "    - fclist = arcpy.ListFeatureClasses(\"c*\")\n",
    "* **Filtering based on feature type**\n",
    "    - fclist = arcpy.ListFeatureClasses(\"\", \"point\")\n"
   ]
  },
  {
   "cell_type": "code",
   "execution_count": 28,
   "metadata": {},
   "outputs": [
    {
     "name": "stdout",
     "output_type": "stream",
     "text": [
      "[u'amtrak_stations.shp', u'cities.shp', u'counties.shp', u'new_mexico.shp', u'railroads.shp']\n"
     ]
    }
   ],
   "source": [
    "import arcpy\n",
    "from arcpy import env \n",
    "env.workspace = r\"C:\\Geog503\\data\"\n",
    "fclist = arcpy.ListFeatureClasses()\n",
    "print(fclist)"
   ]
  },
  {
   "cell_type": "code",
   "execution_count": 29,
   "metadata": {},
   "outputs": [
    {
     "name": "stdout",
     "output_type": "stream",
     "text": [
      "[u'cities.shp', u'counties.shp']\n"
     ]
    }
   ],
   "source": [
    "import arcpy\n",
    "from arcpy import env \n",
    "env.workspace = r\"C:\\Geog503\\data\"\n",
    "fclist = arcpy.ListFeatureClasses(\"*es.shp\")\n",
    "print(fclist)"
   ]
  },
  {
   "cell_type": "markdown",
   "metadata": {},
   "source": [
    "## Listing Fields\n",
    "\n",
    "* The **ListFields** function lists the fields in a feature class or table in a specified dataset.\n",
    "* General syntax:\n",
    "    - ListFields(dataset, {wild_card}, {field_type})\n"
   ]
  },
  {
   "cell_type": "code",
   "execution_count": 30,
   "metadata": {},
   "outputs": [
    {
     "name": "stdout",
     "output_type": "stream",
     "text": [
      "FID             : OID\n",
      "Shape           : Geometry\n",
      "CITIESX020      : Double\n",
      "FEATURE         : String\n",
      "NAME            : String\n",
      "POP_RANGE       : String\n",
      "POP_2000        : Integer\n",
      "FIPS55          : String\n",
      "COUNTY          : String\n",
      "FIPS            : String\n",
      "STATE           : String\n",
      "STATE_FIPS      : String\n",
      "DISPLAY         : SmallInteger\n"
     ]
    }
   ],
   "source": [
    "import arcpy\n",
    "from arcpy import env\n",
    "env.workspace = r\"C:\\Geog503\\data\"\n",
    "fieldlist = arcpy.ListFields(\"cities.shp\")\n",
    "for field in fieldlist:\n",
    "    print(\"{:15} : {}\".format(field.name,field.type))"
   ]
  },
  {
   "cell_type": "markdown",
   "metadata": {},
   "source": [
    "## Using Lists in for loops\n",
    "\n",
    "The following script creates a list of fields of type String and determines for each text field what the length of the field is"
   ]
  },
  {
   "cell_type": "code",
   "execution_count": 31,
   "metadata": {},
   "outputs": [
    {
     "name": "stdout",
     "output_type": "stream",
     "text": [
      "FEATURE         27\n",
      "NAME            48\n",
      "POP_RANGE       21\n",
      "FIPS55          5\n",
      "COUNTY          55\n",
      "FIPS            5\n",
      "STATE           2\n",
      "STATE_FIPS      2\n"
     ]
    }
   ],
   "source": [
    "import arcpy\n",
    "from arcpy import env\n",
    "env.workspace = r\"C:\\Geog503\\data\"\n",
    "fieldlist = arcpy.ListFields(\"cities.shp\",\"\", \"String\")\n",
    "for field in fieldlist:\n",
    "    print(\"{:15} {}\".format(field.name, str(field.length)))"
   ]
  },
  {
   "cell_type": "markdown",
   "metadata": {},
   "source": [
    "The following script creates a list of TIFF files and iterates through each file in the list to build pyramids"
   ]
  },
  {
   "cell_type": "code",
   "execution_count": 32,
   "metadata": {},
   "outputs": [],
   "source": [
    "import arcpy\n",
    "from arcpy import env\n",
    "env.workspace = r\"C:\\Geog503\\data\"\n",
    "tifflist = arcpy.ListRasters(\"\", \"TIF\" )\n",
    "for tiff in tifflist:\n",
    "    arcpy.BuildPyramids_management(tiff)"
   ]
  },
  {
   "cell_type": "markdown",
   "metadata": {},
   "source": [
    " ## Working with Dictionaries\n",
    " \n",
    "* **Dictionaries consist of pairs of keys and values.**\n",
    "* **Pairs are referred to as the items.**\n"
   ]
  },
  {
   "cell_type": "code",
   "execution_count": 33,
   "metadata": {},
   "outputs": [
    {
     "name": "stdout",
     "output_type": "stream",
     "text": [
      "['NY', 'CO', 'OH']\n",
      "['Albany', 'Denver', 'Columbus']\n",
      "[('NY', 'Albany'), ('CO', 'Denver'), ('OH', 'Columbus')]\n"
     ]
    }
   ],
   "source": [
    "capital = { }\n",
    "capital[\"NY\"] = \"Albany\"\n",
    "capital[\"OH\"] = \"Columbus\"\n",
    "capital[\"CO\"] = \"Denver\"\n",
    "print(capital.keys())\n",
    "print(capital.values())\n",
    "print(capital.items())"
   ]
  }
 ],
 "metadata": {
  "anaconda-cloud": {},
  "kernelspec": {
   "display_name": "arcgis",
   "language": "python",
   "name": "arcgis"
  },
  "language_info": {
   "codemirror_mode": {
    "name": "ipython",
    "version": 2
   },
   "file_extension": ".py",
   "mimetype": "text/x-python",
   "name": "python",
   "nbconvert_exporter": "python",
   "pygments_lexer": "ipython2",
   "version": "2.7.14"
  }
 },
 "nbformat": 4,
 "nbformat_minor": 1
}
