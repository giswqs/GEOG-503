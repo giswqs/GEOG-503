{
 "cells": [
  {
   "cell_type": "markdown",
   "metadata": {},
   "source": [
    "# Designing Python GUI\n",
    "\n",
    "* https://pypi.org/project/PySimpleGUI/\n"
   ]
  },
  {
   "cell_type": "markdown",
   "metadata": {},
   "source": [
    "## Installation\n",
    "\n",
    "* For Python 3.x:  `pip install --upgrade PySimpleGUI`\n",
    "* For Python 2.7: `pip install --upgrade PySimpleGUI27`\n"
   ]
  },
  {
   "cell_type": "code",
   "execution_count": 1,
   "metadata": {},
   "outputs": [],
   "source": [
    "# For Python 2.7\n",
    "\n",
    "# import PySimpleGUI27   \n",
    "# PySimpleGUI.main() "
   ]
  },
  {
   "cell_type": "code",
   "execution_count": 2,
   "metadata": {},
   "outputs": [],
   "source": [
    "# For Python 3.x\n",
    "\n",
    "import PySimpleGUI      \n",
    "PySimpleGUI.main()      "
   ]
  },
  {
   "cell_type": "markdown",
   "metadata": {},
   "source": [
    "![](https://warehouse-camo.cmh1.psfhosted.org/3d8880d8f71e3248bfa7c1efea9aeafbd4e98a37/68747470733a2f2f757365722d696d616765732e67697468756275736572636f6e74656e742e636f6d2f31333639363139332f34363039373636392d37396566613530302d633139302d313165382d383835632d6535643464356430396561362e6a7067)"
   ]
  },
  {
   "cell_type": "markdown",
   "metadata": {},
   "source": [
    "## How to design a GUI?\n",
    "\n",
    "### Step 1- Sketch the GUI\n",
    "![](https://warehouse-camo.cmh1.psfhosted.org/d095bc91721dc16e8ec0d029ff7afeee55883def/68747470733a2f2f757365722d696d616765732e67697468756275736572636f6e74656e742e636f6d2f31333639363139332f34343136303132372d36613538343930302d613038372d313165382d386665632d3039303939613865313666362e4a5047)\n",
    "\n",
    "### Step 2 - Divide into rows\n",
    "![](https://warehouse-camo.cmh1.psfhosted.org/d095bc91721dc16e8ec0d029ff7afeee55883def/68747470733a2f2f757365722d696d616765732e67697468756275736572636f6e74656e742e636f6d2f31333639363139332f34343136303132372d36613538343930302d613038372d313165382d386665632d3039303939613865313666362e4a5047)\n",
    "\n",
    "### Step 3 - Label elements\n",
    "![](https://warehouse-camo.cmh1.psfhosted.org/d095bc91721dc16e8ec0d029ff7afeee55883def/68747470733a2f2f757365722d696d616765732e67697468756275736572636f6e74656e742e636f6d2f31333639363139332f34343136303132372d36613538343930302d613038372d313165382d386665632d3039303939613865313666362e4a5047)\n",
    "\n",
    "### Step 4 - Write the code"
   ]
  },
  {
   "cell_type": "code",
   "execution_count": 3,
   "metadata": {},
   "outputs": [
    {
     "data": {
      "text/plain": [
       "'OK'"
      ]
     },
     "execution_count": 3,
     "metadata": {},
     "output_type": "execute_result"
    }
   ],
   "source": [
    "import PySimpleGUI as sg      \n",
    "\n",
    "sg.Popup('Hello From PySimpleGUI!', 'This is the shortest GUI program ever!')  "
   ]
  },
  {
   "cell_type": "markdown",
   "metadata": {},
   "source": [
    "![](https://warehouse-camo.cmh1.psfhosted.org/e43ab79002135b47fc4d8a2fcca8097c6d2b071b/68747470733a2f2f757365722d696d616765732e67697468756275736572636f6e74656e742e636f6d2f31333639363139332f34343936303034372d31663766363338302d616563362d313165382d396435652d3132656639333562636164652e6a7067)"
   ]
  },
  {
   "cell_type": "code",
   "execution_count": 4,
   "metadata": {},
   "outputs": [
    {
     "name": "stdout",
     "output_type": "stream",
     "text": [
      "\n"
     ]
    }
   ],
   "source": [
    "import PySimpleGUI as sg      \n",
    "\n",
    "event, (filename,) = sg.Window('Get filename example'). Layout([[sg.Text('Filename')], [sg.Input(), sg.FileBrowse()], [sg.OK(), sg.Cancel()] ]).Read()    \n",
    "\n",
    "print(filename)"
   ]
  },
  {
   "cell_type": "markdown",
   "metadata": {},
   "source": [
    "![](https://warehouse-camo.cmh1.psfhosted.org/2a746cf833eb2bcee115f752efb11bb9a58dbf34/68747470733a2f2f757365722d696d616765732e67697468756275736572636f6e74656e742e636f6d2f31333639363139332f34343936303033392d66313031383838302d616563352d313165382d386134332d3364376638666639336236372e6a7067)"
   ]
  },
  {
   "cell_type": "code",
   "execution_count": 5,
   "metadata": {},
   "outputs": [
    {
     "data": {
      "text/plain": [
       "'OK'"
      ]
     },
     "execution_count": 5,
     "metadata": {},
     "output_type": "execute_result"
    }
   ],
   "source": [
    "import PySimpleGUI as sg      \n",
    "\n",
    "layout = [[sg.Text('Enter a Number')],      \n",
    "          [sg.Input()],      \n",
    "          [sg.OK()] ]      \n",
    "\n",
    "event, (number,) = sg.Window('Enter a number example').Layout(layout).Read()    \n",
    "\n",
    "sg.Popup(event, number)    "
   ]
  },
  {
   "cell_type": "code",
   "execution_count": 6,
   "metadata": {},
   "outputs": [
    {
     "name": "stdout",
     "output_type": "stream",
     "text": [
      "Input folder: \n",
      "Output folder: \n"
     ]
    }
   ],
   "source": [
    "import PySimpleGUI as sg      \n",
    "\n",
    "layout = [[sg.Text('Rename files or folders')],      \n",
    "         [sg.Text('Input Folder', size=(15, 1)), sg.InputText(), sg.FolderBrowse()],      \n",
    "         [sg.Text('Output Folder', size=(15, 1)), sg.InputText(), sg.FolderBrowse()],      \n",
    "         [sg.Submit(), sg.Cancel()]]      \n",
    "\n",
    "window = sg.Window('Rename Files or Folders')      \n",
    "\n",
    "event, values = window.Layout(layout).Read() \n",
    "\n",
    "in_dir, out_dir = values    \n",
    "\n",
    "print('Input folder: {}'.format(in_dir))\n",
    "print('Output folder: {}'.format(out_dir))"
   ]
  },
  {
   "cell_type": "code",
   "execution_count": 7,
   "metadata": {},
   "outputs": [],
   "source": [
    "import PySimpleGUI as sg      \n",
    "\n",
    "layout = [[sg.Text('All graphic widgets in one window!', size=(30, 1), font=(\"Helvetica\", 25), text_color='blue')],      \n",
    "   [sg.Text('Here is some text.... and a place to enter text')],      \n",
    "   [sg.InputText()],      \n",
    "   [sg.Checkbox('My first checkbox!'), sg.Checkbox('My second checkbox!', default=True)],      \n",
    "   [sg.Radio('My first Radio!     ', \"RADIO1\", default=True), sg.Radio('My second Radio!', \"RADIO1\")],      \n",
    "   [sg.Multiline(default_text='This is the default Text shoulsd you decide not to type anything',)],      \n",
    "[sg.InputCombo(['Combobox 1', 'Combobox 2'], size=(20, 3)),      \n",
    " sg.Slider(range=(1, 100), orientation='h', size=(35, 20), default_value=85)],      \n",
    "[sg.Listbox(values=['Listbox 1', 'Listbox 2', 'Listbox 3'], size=(30, 6)),      \n",
    " sg.Slider(range=(1, 100), orientation='v', size=(10, 20), default_value=25),      \n",
    " sg.Slider(range=(1, 100), orientation='v', size=(10, 20), default_value=75),      \n",
    " sg.Slider(range=(1, 100), orientation='v', size=(10, 20), default_value=10)],      \n",
    "[sg.Text('_'  * 100, size=(70, 1))],      \n",
    "[sg.Text('Choose Source and Destination Folders', size=(35, 1))],      \n",
    "[sg.Text('Source Folder', size=(15, 1), auto_size_text=False, justification='right'), sg.InputText('Source'),      \n",
    " sg.FolderBrowse()],      \n",
    "[sg.Text('Destination Folder', size=(15, 1), auto_size_text=False, justification='right'), sg.InputText('Dest'),      \n",
    " sg.FolderBrowse()],      \n",
    "[sg.Submit(), sg.Cancel(), sg.Button('Customized', button_color=('white', 'green'))]]      \n",
    "\n",
    "event, values  = sg.Window('Everything bagel', auto_size_text=True, default_element_size=(40, 1)).Layout(layout).Read()    \n"
   ]
  },
  {
   "cell_type": "markdown",
   "metadata": {},
   "source": [
    "![](https://warehouse-camo.cmh1.psfhosted.org/c469f0e93b800a3031bb7b080e7de0ce68555bce/68747470733a2f2f757365722d696d616765732e67697468756275736572636f6e74656e742e636f6d2f31333639363139332f34333039373431322d30613436353261612d386538612d313165382d386530392d3933393438346533633536382e6a7067)"
   ]
  }
 ],
 "metadata": {
  "kernelspec": {
   "display_name": "py36",
   "language": "python",
   "name": "py36"
  },
  "language_info": {
   "codemirror_mode": {
    "name": "ipython",
    "version": 3
   },
   "file_extension": ".py",
   "mimetype": "text/x-python",
   "name": "python",
   "nbconvert_exporter": "python",
   "pygments_lexer": "ipython3",
   "version": "3.6.6"
  }
 },
 "nbformat": 4,
 "nbformat_minor": 1
}
